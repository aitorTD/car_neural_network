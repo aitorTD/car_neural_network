{
 "cells": [
  {
   "attachments": {},
   "cell_type": "markdown",
   "metadata": {},
   "source": [
    "# Datos a extraer"
   ]
  },
  {
   "cell_type": "code",
   "execution_count": null,
   "metadata": {},
   "outputs": [],
   "source": [
    "# Datos que se quieren extraer:\n",
    "\n",
    "# 'color': 'COMMON.COLOR_GRAY',\n",
    "# 'fuelTypeId': '1',\n",
    "# 'fuelType': 'Diésel',\n",
    "# 'id': '54087183',\n",
    "# 'km': '105044',\n",
    "# 'make': 'AUDI',\n",
    "# 'makeId': '4',\n",
    "# 'model': 'A6',\n",
    "# 'modelId': '27',\n",
    "# 'price': '29850',\n",
    "# 'province': 'Barcelona',\n",
    "# 'provinceId': '8',\n",
    "# 'title': 'AUDI A6 Black line 2.0 TDI 140 S tro Avant 5p.',\n",
    "# 'transmissionType': 'COMMON.TRANSMISSION_AUTOMATIC',\n",
    "# 'transmissionTypeId': '1',\n",
    "# 'year': '2018',\n",
    "# 'seller_type': 'profesional',\n",
    "# 'bodyType': 'BODY_TYPE_FAMILIAR',\n",
    "# 'cubicCapacity': '1968',\n",
    "# 'doors': '5',\n",
    "# 'hp': '190',\n",
    "# 'url': 'https://www.coches.net/audi-a6-black-line-20-tdi-140-s-tro-avant-5p-diesel-2018-en-barcelona-54087183-covo.aspx'\n",
    "# 'fecha': fecha y hora del momento en el que se obtienen los datos"
   ]
  },
  {
   "attachments": {},
   "cell_type": "markdown",
   "metadata": {},
   "source": [
    "# Código"
   ]
  },
  {
   "cell_type": "code",
   "execution_count": null,
   "metadata": {},
   "outputs": [],
   "source": [
    "# https://www.coches.net/segunda-mano/?MakeId=39&MinPrice=4000&MinYear=2012&MaxYear=2022&MinKms=10000&MaxKms=180000\n",
    "# https://www.coches.net/segunda-mano/?MakeId=40&MinPrice=4000&MinYear=2012&MaxYear=2022&MinKms=10000&MaxKms=180000"
   ]
  },
  {
   "cell_type": "code",
   "execution_count": null,
   "metadata": {},
   "outputs": [],
   "source": [
    "%pip install undetected-chromedriver"
   ]
  },
  {
   "cell_type": "code",
   "execution_count": null,
   "metadata": {},
   "outputs": [],
   "source": [
    "%pip install pandas"
   ]
  },
  {
   "cell_type": "code",
   "execution_count": 30,
   "metadata": {},
   "outputs": [],
   "source": [
    "import ssl\n",
    "ssl._create_default_https_context = ssl._create_unverified_context\n",
    "\n",
    "from selenium.webdriver import ActionChains\n",
    "from selenium.webdriver.common.by import By\n",
    "from datetime import datetime\n",
    "import random\n",
    "import re\n",
    "import time\n",
    "import undetected_chromedriver as uc\n",
    "from selenium import webdriver\n",
    "import json\n",
    "import pandas as pd\n",
    "\n",
    "\n",
    "\n",
    "from selenium.webdriver.common.action_chains import ActionChains\n",
    "from selenium.webdriver.common.by import By\n",
    "from selenium.webdriver.support.ui import WebDriverWait\n",
    "from selenium.webdriver.support import expected_conditions as EC\n",
    "from undetected_chromedriver import Chrome, ChromeOptions"
   ]
  },
  {
   "cell_type": "code",
   "execution_count": 53,
   "metadata": {},
   "outputs": [],
   "source": [
    "def get_driver():\n",
    "  options = webdriver.ChromeOptions()\n",
    "  options.add_argument('--user-agent=Mozilla/5.0 (Windows NT 10.0; Win64; x64) AppleWebKit/537.36 (KHTML, like Gecko) Chrome/94.0.4606.61 Safari/537.36')\n",
    "  options.add_argument(\"--incognito\")\n",
    "  driver = uc.Chrome(options = options)\n",
    "  driver.set_page_load_timeout(60)\n",
    "  driver.set_window_size(1366, 768)\n",
    "  driver.set_window_position(0, 0)\n",
    "  driver.delete_all_cookies()\n",
    "  driver.execute_script(\"localStorage.clear();\")\n",
    "  driver.execute_script(\"sessionStorage.clear();\")\n",
    "  driver.execute_script(\"history.go(0);\")\n",
    "  driver.execute_cdp_cmd('Page.addScriptToEvaluateOnNewDocument', {\n",
    "    'source': 'Object.defineProperty(navigator, \"webdriver\", {get: () => undefined})'\n",
    "  })\n",
    "  return driver"
   ]
  },
  {
   "cell_type": "code",
   "execution_count": null,
   "metadata": {},
   "outputs": [],
   "source": [
    "def get_cars(driver, urls):\n",
    "    cars = []\n",
    "    max_cars = 3\n",
    "    cars_total = 0\n",
    "    for url in urls:\n",
    "        if url != None:\n",
    "            car = get_car(driver, url)\n",
    "            cars.append(car)\n",
    "            cars_total += 1\n",
    "            if cars_total >= max_cars:\n",
    "                break\n",
    "    print(len(cars))\n",
    "    print(cars)\n",
    "    return cars"
   ]
  },
  {
   "cell_type": "code",
   "execution_count": 54,
   "metadata": {},
   "outputs": [],
   "source": [
    "driver = get_driver()\n",
    "actions = ActionChains(driver)\n",
    "driver.get('https://www.coches.net/segunda-mano/?MakeId=39&MinPrice=4000&MinYear=2012&MaxYear=2022&MinKms=10000&MaxKms=180000') # Añadir el coche scrapeado aquí.\n",
    "\n",
    "try:\n",
    "  actions.move_by_offset(random.uniform(-20, 20), random.uniform(-100, 200))\n",
    "except:\n",
    "  pass\n",
    "time.sleep(random.uniform(0.5, 1.5))\n",
    "try:\n",
    "  button = driver.find_element(by=By.XPATH, value='/html/body/div[1]/div/div[2]/div/div[3]/div/div/div/footer/div/button[2]')\n",
    "  try:\n",
    "    actions.move_to_element(button).perform()\n",
    "  except:\n",
    "    pass\n",
    "  button.click()\n",
    "  time.sleep(random.uniform(0.8, 1.2))\n",
    "except:\n",
    "  pass"
   ]
  },
  {
   "cell_type": "code",
   "execution_count": 56,
   "metadata": {},
   "outputs": [
    {
     "name": "stdout",
     "output_type": "stream",
     "text": [
      "SEAT Leon 1.6 TDI 105cv StSp ITech 5p.\n",
      "SEAT Alhambra 2.0 TDI 110kW 150CV Eco SS Style 5p.\n",
      "SEAT Arona 1.0 TSI 81kW 110CV Style 5p.\n",
      "SEAT Leon 1.8 TSI 132kW DSG7 StSp FR Plus 3p.\n",
      "SEAT Ateca 1.4 EcoTSI 110kW 150CV StSp Style 5p.\n",
      "SEAT Leon 1.6 TDI 85kW 115CV StSp Style 5p.\n",
      "SEAT Arona 1.0 TSI 81kW 110CV Style 5p.\n",
      "SEAT Ibiza 1.0 TSI 85kW 115CV FR 5p.\n"
     ]
    },
    {
     "ename": "NoSuchElementException",
     "evalue": "Message: no such element: Unable to locate element: {\"method\":\"css selector\",\"selector\":\".mt-CardBasic-title\"}\n  (Session info: chrome=111.0.5563.146)\nStacktrace:\n0   undetected_chromedriver             0x00000001010c0428 undetected_chromedriver + 4899880\n1   undetected_chromedriver             0x000000010103da23 undetected_chromedriver + 4364835\n2   undetected_chromedriver             0x0000000100c87bf6 undetected_chromedriver + 474102\n3   undetected_chromedriver             0x0000000100ccb4f0 undetected_chromedriver + 750832\n4   undetected_chromedriver             0x0000000100ccb751 undetected_chromedriver + 751441\n5   undetected_chromedriver             0x0000000100cbd486 undetected_chromedriver + 693382\n6   undetected_chromedriver             0x0000000100cf158d undetected_chromedriver + 906637\n7   undetected_chromedriver             0x0000000100cbd361 undetected_chromedriver + 693089\n8   undetected_chromedriver             0x0000000100cf171e undetected_chromedriver + 907038\n9   undetected_chromedriver             0x0000000100d0cb5b undetected_chromedriver + 1018715\n10  undetected_chromedriver             0x0000000100cf1333 undetected_chromedriver + 906035\n11  undetected_chromedriver             0x0000000100cbb55f undetected_chromedriver + 685407\n12  undetected_chromedriver             0x0000000100cbca7e undetected_chromedriver + 690814\n13  undetected_chromedriver             0x000000010108d79e undetected_chromedriver + 4691870\n14  undetected_chromedriver             0x0000000101092961 undetected_chromedriver + 4712801\n15  undetected_chromedriver             0x00000001010992ff undetected_chromedriver + 4739839\n16  undetected_chromedriver             0x000000010109385a undetected_chromedriver + 4716634\n17  undetected_chromedriver             0x0000000101065fce undetected_chromedriver + 4530126\n18  undetected_chromedriver             0x00000001010b35c8 undetected_chromedriver + 4847048\n19  undetected_chromedriver             0x00000001010b3747 undetected_chromedriver + 4847431\n20  undetected_chromedriver             0x00000001010c887f undetected_chromedriver + 4933759\n21  libsystem_pthread.dylib             0x00007ff8177171d3 _pthread_start + 125\n22  libsystem_pthread.dylib             0x00007ff817712bd3 thread_start + 15\n",
     "output_type": "error",
     "traceback": [
      "\u001b[0;31m---------------------------------------------------------------------------\u001b[0m",
      "\u001b[0;31mNoSuchElementException\u001b[0m                    Traceback (most recent call last)",
      "Cell \u001b[0;32mIn[56], line 22\u001b[0m\n\u001b[1;32m     20\u001b[0m elements \u001b[39m=\u001b[39m driver\u001b[39m.\u001b[39mfind_elements(By\u001b[39m.\u001b[39mCLASS_NAME, \u001b[39m'\u001b[39m\u001b[39mmt-CardBasic-titleLink\u001b[39m\u001b[39m'\u001b[39m)\n\u001b[1;32m     21\u001b[0m \u001b[39mfor\u001b[39;00m element \u001b[39min\u001b[39;00m elements:\n\u001b[0;32m---> 22\u001b[0m     title \u001b[39m=\u001b[39m element\u001b[39m.\u001b[39;49mfind_element(By\u001b[39m.\u001b[39;49mCLASS_NAME, \u001b[39m'\u001b[39;49m\u001b[39mmt-CardBasic-title\u001b[39;49m\u001b[39m'\u001b[39;49m)\n\u001b[1;32m     23\u001b[0m     \u001b[39mprint\u001b[39m(title\u001b[39m.\u001b[39mtext)\n",
      "File \u001b[0;32m~/Desktop/car_neural_network/venv/lib/python3.9/site-packages/selenium/webdriver/remote/webelement.py:426\u001b[0m, in \u001b[0;36mWebElement.find_element\u001b[0;34m(self, by, value)\u001b[0m\n\u001b[1;32m    423\u001b[0m     by \u001b[39m=\u001b[39m By\u001b[39m.\u001b[39mCSS_SELECTOR\n\u001b[1;32m    424\u001b[0m     value \u001b[39m=\u001b[39m \u001b[39mf\u001b[39m\u001b[39m'\u001b[39m\u001b[39m[name=\u001b[39m\u001b[39m\"\u001b[39m\u001b[39m{\u001b[39;00mvalue\u001b[39m}\u001b[39;00m\u001b[39m\"\u001b[39m\u001b[39m]\u001b[39m\u001b[39m'\u001b[39m\n\u001b[0;32m--> 426\u001b[0m \u001b[39mreturn\u001b[39;00m \u001b[39mself\u001b[39;49m\u001b[39m.\u001b[39;49m_execute(Command\u001b[39m.\u001b[39;49mFIND_CHILD_ELEMENT, {\u001b[39m\"\u001b[39;49m\u001b[39musing\u001b[39;49m\u001b[39m\"\u001b[39;49m: by, \u001b[39m\"\u001b[39;49m\u001b[39mvalue\u001b[39;49m\u001b[39m\"\u001b[39;49m: value})[\u001b[39m\"\u001b[39m\u001b[39mvalue\u001b[39m\u001b[39m\"\u001b[39m]\n",
      "File \u001b[0;32m~/Desktop/car_neural_network/venv/lib/python3.9/site-packages/selenium/webdriver/remote/webelement.py:404\u001b[0m, in \u001b[0;36mWebElement._execute\u001b[0;34m(self, command, params)\u001b[0m\n\u001b[1;32m    402\u001b[0m     params \u001b[39m=\u001b[39m {}\n\u001b[1;32m    403\u001b[0m params[\u001b[39m\"\u001b[39m\u001b[39mid\u001b[39m\u001b[39m\"\u001b[39m] \u001b[39m=\u001b[39m \u001b[39mself\u001b[39m\u001b[39m.\u001b[39m_id\n\u001b[0;32m--> 404\u001b[0m \u001b[39mreturn\u001b[39;00m \u001b[39mself\u001b[39;49m\u001b[39m.\u001b[39;49m_parent\u001b[39m.\u001b[39;49mexecute(command, params)\n",
      "File \u001b[0;32m~/Desktop/car_neural_network/venv/lib/python3.9/site-packages/selenium/webdriver/remote/webdriver.py:440\u001b[0m, in \u001b[0;36mWebDriver.execute\u001b[0;34m(self, driver_command, params)\u001b[0m\n\u001b[1;32m    438\u001b[0m response \u001b[39m=\u001b[39m \u001b[39mself\u001b[39m\u001b[39m.\u001b[39mcommand_executor\u001b[39m.\u001b[39mexecute(driver_command, params)\n\u001b[1;32m    439\u001b[0m \u001b[39mif\u001b[39;00m response:\n\u001b[0;32m--> 440\u001b[0m     \u001b[39mself\u001b[39;49m\u001b[39m.\u001b[39;49merror_handler\u001b[39m.\u001b[39;49mcheck_response(response)\n\u001b[1;32m    441\u001b[0m     response[\u001b[39m\"\u001b[39m\u001b[39mvalue\u001b[39m\u001b[39m\"\u001b[39m] \u001b[39m=\u001b[39m \u001b[39mself\u001b[39m\u001b[39m.\u001b[39m_unwrap_value(response\u001b[39m.\u001b[39mget(\u001b[39m\"\u001b[39m\u001b[39mvalue\u001b[39m\u001b[39m\"\u001b[39m, \u001b[39mNone\u001b[39;00m))\n\u001b[1;32m    442\u001b[0m     \u001b[39mreturn\u001b[39;00m response\n",
      "File \u001b[0;32m~/Desktop/car_neural_network/venv/lib/python3.9/site-packages/selenium/webdriver/remote/errorhandler.py:245\u001b[0m, in \u001b[0;36mErrorHandler.check_response\u001b[0;34m(self, response)\u001b[0m\n\u001b[1;32m    243\u001b[0m         alert_text \u001b[39m=\u001b[39m value[\u001b[39m\"\u001b[39m\u001b[39malert\u001b[39m\u001b[39m\"\u001b[39m]\u001b[39m.\u001b[39mget(\u001b[39m\"\u001b[39m\u001b[39mtext\u001b[39m\u001b[39m\"\u001b[39m)\n\u001b[1;32m    244\u001b[0m     \u001b[39mraise\u001b[39;00m exception_class(message, screen, stacktrace, alert_text)  \u001b[39m# type: ignore[call-arg]  # mypy is not smart enough here\u001b[39;00m\n\u001b[0;32m--> 245\u001b[0m \u001b[39mraise\u001b[39;00m exception_class(message, screen, stacktrace)\n",
      "\u001b[0;31mNoSuchElementException\u001b[0m: Message: no such element: Unable to locate element: {\"method\":\"css selector\",\"selector\":\".mt-CardBasic-title\"}\n  (Session info: chrome=111.0.5563.146)\nStacktrace:\n0   undetected_chromedriver             0x00000001010c0428 undetected_chromedriver + 4899880\n1   undetected_chromedriver             0x000000010103da23 undetected_chromedriver + 4364835\n2   undetected_chromedriver             0x0000000100c87bf6 undetected_chromedriver + 474102\n3   undetected_chromedriver             0x0000000100ccb4f0 undetected_chromedriver + 750832\n4   undetected_chromedriver             0x0000000100ccb751 undetected_chromedriver + 751441\n5   undetected_chromedriver             0x0000000100cbd486 undetected_chromedriver + 693382\n6   undetected_chromedriver             0x0000000100cf158d undetected_chromedriver + 906637\n7   undetected_chromedriver             0x0000000100cbd361 undetected_chromedriver + 693089\n8   undetected_chromedriver             0x0000000100cf171e undetected_chromedriver + 907038\n9   undetected_chromedriver             0x0000000100d0cb5b undetected_chromedriver + 1018715\n10  undetected_chromedriver             0x0000000100cf1333 undetected_chromedriver + 906035\n11  undetected_chromedriver             0x0000000100cbb55f undetected_chromedriver + 685407\n12  undetected_chromedriver             0x0000000100cbca7e undetected_chromedriver + 690814\n13  undetected_chromedriver             0x000000010108d79e undetected_chromedriver + 4691870\n14  undetected_chromedriver             0x0000000101092961 undetected_chromedriver + 4712801\n15  undetected_chromedriver             0x00000001010992ff undetected_chromedriver + 4739839\n16  undetected_chromedriver             0x000000010109385a undetected_chromedriver + 4716634\n17  undetected_chromedriver             0x0000000101065fce undetected_chromedriver + 4530126\n18  undetected_chromedriver             0x00000001010b35c8 undetected_chromedriver + 4847048\n19  undetected_chromedriver             0x00000001010b3747 undetected_chromedriver + 4847431\n20  undetected_chromedriver             0x00000001010c887f undetected_chromedriver + 4933759\n21  libsystem_pthread.dylib             0x00007ff8177171d3 _pthread_start + 125\n22  libsystem_pthread.dylib             0x00007ff817712bd3 thread_start + 15\n"
     ]
    }
   ],
   "source": [
    "from undetected_chromedriver import Chrome, ChromeOptions\n",
    "import time\n",
    "\n",
    "last_height = driver.execute_script(\"return document.body.scrollHeight\")\n",
    "SCROLL_PAUSE_TIME = 0.5\n",
    "\n",
    "while True:\n",
    "    # Scroll down to bottom\n",
    "    driver.execute_script(\"window.scrollBy(0, window.innerHeight);\")\n",
    "\n",
    "    # Wait to load page\n",
    "    time.sleep(SCROLL_PAUSE_TIME)\n",
    "\n",
    "    # Calculate new scroll height and compare with last scroll height\n",
    "    new_height = driver.execute_script(\"return document.body.scrollHeight\")\n",
    "    if new_height == last_height:\n",
    "        break\n",
    "    last_height = new_height\n",
    "\n",
    "elements = driver.find_elements(By.CLASS_NAME, 'mt-CardBasic-titleLink')\n",
    "for element in elements:\n",
    "    title = element.find_element(By.CLASS_NAME, 'mt-CardBasic-title')\n",
    "    print(title.text)"
   ]
  },
  {
   "cell_type": "code",
   "execution_count": 52,
   "metadata": {},
   "outputs": [
    {
     "ename": "NoSuchWindowException",
     "evalue": "Message: no such window: target window already closed\nfrom unknown error: web view not found\n  (Session info: chrome=111.0.5563.146)\nStacktrace:\n0   undetected_chromedriver             0x000000010458b428 undetected_chromedriver + 4899880\n1   undetected_chromedriver             0x0000000104508a23 undetected_chromedriver + 4364835\n2   undetected_chromedriver             0x0000000104152bf6 undetected_chromedriver + 474102\n3   undetected_chromedriver             0x0000000104128cdc undetected_chromedriver + 302300\n4   undetected_chromedriver             0x00000001041c185f undetected_chromedriver + 927839\n5   undetected_chromedriver             0x00000001041d7226 undetected_chromedriver + 1016358\n6   undetected_chromedriver             0x00000001041bc333 undetected_chromedriver + 906035\n7   undetected_chromedriver             0x000000010418655f undetected_chromedriver + 685407\n8   undetected_chromedriver             0x0000000104187a7e undetected_chromedriver + 690814\n9   undetected_chromedriver             0x000000010455879e undetected_chromedriver + 4691870\n10  undetected_chromedriver             0x000000010455d961 undetected_chromedriver + 4712801\n11  undetected_chromedriver             0x00000001045642ff undetected_chromedriver + 4739839\n12  undetected_chromedriver             0x000000010455e85a undetected_chromedriver + 4716634\n13  undetected_chromedriver             0x0000000104530fce undetected_chromedriver + 4530126\n14  undetected_chromedriver             0x000000010457e5c8 undetected_chromedriver + 4847048\n15  undetected_chromedriver             0x000000010457e747 undetected_chromedriver + 4847431\n16  undetected_chromedriver             0x000000010459387f undetected_chromedriver + 4933759\n17  libsystem_pthread.dylib             0x00007ff8177171d3 _pthread_start + 125\n18  libsystem_pthread.dylib             0x00007ff817712bd3 thread_start + 15\n",
     "output_type": "error",
     "traceback": [
      "\u001b[0;31m---------------------------------------------------------------------------\u001b[0m",
      "\u001b[0;31mNoSuchWindowException\u001b[0m                     Traceback (most recent call last)",
      "Cell \u001b[0;32mIn[52], line 1\u001b[0m\n\u001b[0;32m----> 1\u001b[0m elements \u001b[39m=\u001b[39m driver\u001b[39m.\u001b[39;49mfind_elements(By\u001b[39m.\u001b[39;49mCLASS_NAME, \u001b[39m'\u001b[39;49m\u001b[39mmt-CardBasic-titleLink\u001b[39;49m\u001b[39m'\u001b[39;49m)\n\u001b[1;32m      2\u001b[0m \u001b[39mfor\u001b[39;00m element \u001b[39min\u001b[39;00m elements:\n\u001b[1;32m      3\u001b[0m     title \u001b[39m=\u001b[39m element\u001b[39m.\u001b[39mfind_element(By\u001b[39m.\u001b[39mCLASS_NAME, \u001b[39m'\u001b[39m\u001b[39mmt-CardBasic-title\u001b[39m\u001b[39m'\u001b[39m)\n",
      "File \u001b[0;32m~/Desktop/car_neural_network/venv/lib/python3.9/site-packages/selenium/webdriver/remote/webdriver.py:861\u001b[0m, in \u001b[0;36mWebDriver.find_elements\u001b[0;34m(self, by, value)\u001b[0m\n\u001b[1;32m    857\u001b[0m     value \u001b[39m=\u001b[39m \u001b[39mf\u001b[39m\u001b[39m'\u001b[39m\u001b[39m[name=\u001b[39m\u001b[39m\"\u001b[39m\u001b[39m{\u001b[39;00mvalue\u001b[39m}\u001b[39;00m\u001b[39m\"\u001b[39m\u001b[39m]\u001b[39m\u001b[39m'\u001b[39m\n\u001b[1;32m    859\u001b[0m \u001b[39m# Return empty list if driver returns null\u001b[39;00m\n\u001b[1;32m    860\u001b[0m \u001b[39m# See https://github.com/SeleniumHQ/selenium/issues/4555\u001b[39;00m\n\u001b[0;32m--> 861\u001b[0m \u001b[39mreturn\u001b[39;00m \u001b[39mself\u001b[39;49m\u001b[39m.\u001b[39;49mexecute(Command\u001b[39m.\u001b[39;49mFIND_ELEMENTS, {\u001b[39m\"\u001b[39;49m\u001b[39musing\u001b[39;49m\u001b[39m\"\u001b[39;49m: by, \u001b[39m\"\u001b[39;49m\u001b[39mvalue\u001b[39;49m\u001b[39m\"\u001b[39;49m: value})[\u001b[39m\"\u001b[39m\u001b[39mvalue\u001b[39m\u001b[39m\"\u001b[39m] \u001b[39mor\u001b[39;00m []\n",
      "File \u001b[0;32m~/Desktop/car_neural_network/venv/lib/python3.9/site-packages/selenium/webdriver/remote/webdriver.py:440\u001b[0m, in \u001b[0;36mWebDriver.execute\u001b[0;34m(self, driver_command, params)\u001b[0m\n\u001b[1;32m    438\u001b[0m response \u001b[39m=\u001b[39m \u001b[39mself\u001b[39m\u001b[39m.\u001b[39mcommand_executor\u001b[39m.\u001b[39mexecute(driver_command, params)\n\u001b[1;32m    439\u001b[0m \u001b[39mif\u001b[39;00m response:\n\u001b[0;32m--> 440\u001b[0m     \u001b[39mself\u001b[39;49m\u001b[39m.\u001b[39;49merror_handler\u001b[39m.\u001b[39;49mcheck_response(response)\n\u001b[1;32m    441\u001b[0m     response[\u001b[39m\"\u001b[39m\u001b[39mvalue\u001b[39m\u001b[39m\"\u001b[39m] \u001b[39m=\u001b[39m \u001b[39mself\u001b[39m\u001b[39m.\u001b[39m_unwrap_value(response\u001b[39m.\u001b[39mget(\u001b[39m\"\u001b[39m\u001b[39mvalue\u001b[39m\u001b[39m\"\u001b[39m, \u001b[39mNone\u001b[39;00m))\n\u001b[1;32m    442\u001b[0m     \u001b[39mreturn\u001b[39;00m response\n",
      "File \u001b[0;32m~/Desktop/car_neural_network/venv/lib/python3.9/site-packages/selenium/webdriver/remote/errorhandler.py:245\u001b[0m, in \u001b[0;36mErrorHandler.check_response\u001b[0;34m(self, response)\u001b[0m\n\u001b[1;32m    243\u001b[0m         alert_text \u001b[39m=\u001b[39m value[\u001b[39m\"\u001b[39m\u001b[39malert\u001b[39m\u001b[39m\"\u001b[39m]\u001b[39m.\u001b[39mget(\u001b[39m\"\u001b[39m\u001b[39mtext\u001b[39m\u001b[39m\"\u001b[39m)\n\u001b[1;32m    244\u001b[0m     \u001b[39mraise\u001b[39;00m exception_class(message, screen, stacktrace, alert_text)  \u001b[39m# type: ignore[call-arg]  # mypy is not smart enough here\u001b[39;00m\n\u001b[0;32m--> 245\u001b[0m \u001b[39mraise\u001b[39;00m exception_class(message, screen, stacktrace)\n",
      "\u001b[0;31mNoSuchWindowException\u001b[0m: Message: no such window: target window already closed\nfrom unknown error: web view not found\n  (Session info: chrome=111.0.5563.146)\nStacktrace:\n0   undetected_chromedriver             0x000000010458b428 undetected_chromedriver + 4899880\n1   undetected_chromedriver             0x0000000104508a23 undetected_chromedriver + 4364835\n2   undetected_chromedriver             0x0000000104152bf6 undetected_chromedriver + 474102\n3   undetected_chromedriver             0x0000000104128cdc undetected_chromedriver + 302300\n4   undetected_chromedriver             0x00000001041c185f undetected_chromedriver + 927839\n5   undetected_chromedriver             0x00000001041d7226 undetected_chromedriver + 1016358\n6   undetected_chromedriver             0x00000001041bc333 undetected_chromedriver + 906035\n7   undetected_chromedriver             0x000000010418655f undetected_chromedriver + 685407\n8   undetected_chromedriver             0x0000000104187a7e undetected_chromedriver + 690814\n9   undetected_chromedriver             0x000000010455879e undetected_chromedriver + 4691870\n10  undetected_chromedriver             0x000000010455d961 undetected_chromedriver + 4712801\n11  undetected_chromedriver             0x00000001045642ff undetected_chromedriver + 4739839\n12  undetected_chromedriver             0x000000010455e85a undetected_chromedriver + 4716634\n13  undetected_chromedriver             0x0000000104530fce undetected_chromedriver + 4530126\n14  undetected_chromedriver             0x000000010457e5c8 undetected_chromedriver + 4847048\n15  undetected_chromedriver             0x000000010457e747 undetected_chromedriver + 4847431\n16  undetected_chromedriver             0x000000010459387f undetected_chromedriver + 4933759\n17  libsystem_pthread.dylib             0x00007ff8177171d3 _pthread_start + 125\n18  libsystem_pthread.dylib             0x00007ff817712bd3 thread_start + 15\n"
     ]
    }
   ],
   "source": [
    "elements = driver.find_elements(By.CLASS_NAME, 'mt-CardBasic-titleLink')\n",
    "for element in elements:\n",
    "    title = element.find_element(By.CLASS_NAME, 'mt-CardBasic-title')\n",
    "    print(title.text)"
   ]
  },
  {
   "cell_type": "code",
   "execution_count": 28,
   "metadata": {},
   "outputs": [
    {
     "ename": "NoSuchElementException",
     "evalue": "Message: no such element: Unable to locate element: {\"method\":\"css selector\",\"selector\":\".mt-PanelAdDetails-data\"}\n  (Session info: chrome=111.0.5563.146)\nStacktrace:\n0   undetected_chromedriver             0x0000000104b1b428 undetected_chromedriver + 4899880\n1   undetected_chromedriver             0x0000000104a98a23 undetected_chromedriver + 4364835\n2   undetected_chromedriver             0x00000001046e2bf6 undetected_chromedriver + 474102\n3   undetected_chromedriver             0x00000001047264f0 undetected_chromedriver + 750832\n4   undetected_chromedriver             0x0000000104726751 undetected_chromedriver + 751441\n5   undetected_chromedriver             0x000000010476a834 undetected_chromedriver + 1030196\n6   undetected_chromedriver             0x000000010474c58d undetected_chromedriver + 906637\n7   undetected_chromedriver             0x0000000104767b5b undetected_chromedriver + 1018715\n8   undetected_chromedriver             0x000000010474c333 undetected_chromedriver + 906035\n9   undetected_chromedriver             0x000000010471655f undetected_chromedriver + 685407\n10  undetected_chromedriver             0x0000000104717a7e undetected_chromedriver + 690814\n11  undetected_chromedriver             0x0000000104ae879e undetected_chromedriver + 4691870\n12  undetected_chromedriver             0x0000000104aed961 undetected_chromedriver + 4712801\n13  undetected_chromedriver             0x0000000104af42ff undetected_chromedriver + 4739839\n14  undetected_chromedriver             0x0000000104aee85a undetected_chromedriver + 4716634\n15  undetected_chromedriver             0x0000000104ac0fce undetected_chromedriver + 4530126\n16  undetected_chromedriver             0x0000000104b0e5c8 undetected_chromedriver + 4847048\n17  undetected_chromedriver             0x0000000104b0e747 undetected_chromedriver + 4847431\n18  undetected_chromedriver             0x0000000104b2387f undetected_chromedriver + 4933759\n19  libsystem_pthread.dylib             0x00007ff8177171d3 _pthread_start + 125\n20  libsystem_pthread.dylib             0x00007ff817712bd3 thread_start + 15\n",
     "output_type": "error",
     "traceback": [
      "\u001b[0;31m---------------------------------------------------------------------------\u001b[0m",
      "\u001b[0;31mNoSuchElementException\u001b[0m                    Traceback (most recent call last)",
      "Cell \u001b[0;32mIn[28], line 2\u001b[0m\n\u001b[1;32m      1\u001b[0m \u001b[39m# Busca el div que contiene la lista de detalles del coche\u001b[39;00m\n\u001b[0;32m----> 2\u001b[0m details_div \u001b[39m=\u001b[39m driver\u001b[39m.\u001b[39;49mfind_element(By\u001b[39m.\u001b[39;49mCLASS_NAME, \u001b[39m\"\u001b[39;49m\u001b[39mmt-PanelAdDetails-data\u001b[39;49m\u001b[39m\"\u001b[39;49m)\n\u001b[1;32m      4\u001b[0m \u001b[39m# Busca todas las etiquetas 'li' dentro del div\u001b[39;00m\n\u001b[1;32m      5\u001b[0m details_list \u001b[39m=\u001b[39m details_div\u001b[39m.\u001b[39mfind_elements(By\u001b[39m.\u001b[39mTAG_NAME, \u001b[39m\"\u001b[39m\u001b[39mli\u001b[39m\u001b[39m\"\u001b[39m)\n",
      "File \u001b[0;32m~/Desktop/car_neural_network/venv/lib/python3.9/site-packages/selenium/webdriver/remote/webdriver.py:831\u001b[0m, in \u001b[0;36mWebDriver.find_element\u001b[0;34m(self, by, value)\u001b[0m\n\u001b[1;32m    828\u001b[0m     by \u001b[39m=\u001b[39m By\u001b[39m.\u001b[39mCSS_SELECTOR\n\u001b[1;32m    829\u001b[0m     value \u001b[39m=\u001b[39m \u001b[39mf\u001b[39m\u001b[39m'\u001b[39m\u001b[39m[name=\u001b[39m\u001b[39m\"\u001b[39m\u001b[39m{\u001b[39;00mvalue\u001b[39m}\u001b[39;00m\u001b[39m\"\u001b[39m\u001b[39m]\u001b[39m\u001b[39m'\u001b[39m\n\u001b[0;32m--> 831\u001b[0m \u001b[39mreturn\u001b[39;00m \u001b[39mself\u001b[39;49m\u001b[39m.\u001b[39;49mexecute(Command\u001b[39m.\u001b[39;49mFIND_ELEMENT, {\u001b[39m\"\u001b[39;49m\u001b[39musing\u001b[39;49m\u001b[39m\"\u001b[39;49m: by, \u001b[39m\"\u001b[39;49m\u001b[39mvalue\u001b[39;49m\u001b[39m\"\u001b[39;49m: value})[\u001b[39m\"\u001b[39m\u001b[39mvalue\u001b[39m\u001b[39m\"\u001b[39m]\n",
      "File \u001b[0;32m~/Desktop/car_neural_network/venv/lib/python3.9/site-packages/selenium/webdriver/remote/webdriver.py:440\u001b[0m, in \u001b[0;36mWebDriver.execute\u001b[0;34m(self, driver_command, params)\u001b[0m\n\u001b[1;32m    438\u001b[0m response \u001b[39m=\u001b[39m \u001b[39mself\u001b[39m\u001b[39m.\u001b[39mcommand_executor\u001b[39m.\u001b[39mexecute(driver_command, params)\n\u001b[1;32m    439\u001b[0m \u001b[39mif\u001b[39;00m response:\n\u001b[0;32m--> 440\u001b[0m     \u001b[39mself\u001b[39;49m\u001b[39m.\u001b[39;49merror_handler\u001b[39m.\u001b[39;49mcheck_response(response)\n\u001b[1;32m    441\u001b[0m     response[\u001b[39m\"\u001b[39m\u001b[39mvalue\u001b[39m\u001b[39m\"\u001b[39m] \u001b[39m=\u001b[39m \u001b[39mself\u001b[39m\u001b[39m.\u001b[39m_unwrap_value(response\u001b[39m.\u001b[39mget(\u001b[39m\"\u001b[39m\u001b[39mvalue\u001b[39m\u001b[39m\"\u001b[39m, \u001b[39mNone\u001b[39;00m))\n\u001b[1;32m    442\u001b[0m     \u001b[39mreturn\u001b[39;00m response\n",
      "File \u001b[0;32m~/Desktop/car_neural_network/venv/lib/python3.9/site-packages/selenium/webdriver/remote/errorhandler.py:245\u001b[0m, in \u001b[0;36mErrorHandler.check_response\u001b[0;34m(self, response)\u001b[0m\n\u001b[1;32m    243\u001b[0m         alert_text \u001b[39m=\u001b[39m value[\u001b[39m\"\u001b[39m\u001b[39malert\u001b[39m\u001b[39m\"\u001b[39m]\u001b[39m.\u001b[39mget(\u001b[39m\"\u001b[39m\u001b[39mtext\u001b[39m\u001b[39m\"\u001b[39m)\n\u001b[1;32m    244\u001b[0m     \u001b[39mraise\u001b[39;00m exception_class(message, screen, stacktrace, alert_text)  \u001b[39m# type: ignore[call-arg]  # mypy is not smart enough here\u001b[39;00m\n\u001b[0;32m--> 245\u001b[0m \u001b[39mraise\u001b[39;00m exception_class(message, screen, stacktrace)\n",
      "\u001b[0;31mNoSuchElementException\u001b[0m: Message: no such element: Unable to locate element: {\"method\":\"css selector\",\"selector\":\".mt-PanelAdDetails-data\"}\n  (Session info: chrome=111.0.5563.146)\nStacktrace:\n0   undetected_chromedriver             0x0000000104b1b428 undetected_chromedriver + 4899880\n1   undetected_chromedriver             0x0000000104a98a23 undetected_chromedriver + 4364835\n2   undetected_chromedriver             0x00000001046e2bf6 undetected_chromedriver + 474102\n3   undetected_chromedriver             0x00000001047264f0 undetected_chromedriver + 750832\n4   undetected_chromedriver             0x0000000104726751 undetected_chromedriver + 751441\n5   undetected_chromedriver             0x000000010476a834 undetected_chromedriver + 1030196\n6   undetected_chromedriver             0x000000010474c58d undetected_chromedriver + 906637\n7   undetected_chromedriver             0x0000000104767b5b undetected_chromedriver + 1018715\n8   undetected_chromedriver             0x000000010474c333 undetected_chromedriver + 906035\n9   undetected_chromedriver             0x000000010471655f undetected_chromedriver + 685407\n10  undetected_chromedriver             0x0000000104717a7e undetected_chromedriver + 690814\n11  undetected_chromedriver             0x0000000104ae879e undetected_chromedriver + 4691870\n12  undetected_chromedriver             0x0000000104aed961 undetected_chromedriver + 4712801\n13  undetected_chromedriver             0x0000000104af42ff undetected_chromedriver + 4739839\n14  undetected_chromedriver             0x0000000104aee85a undetected_chromedriver + 4716634\n15  undetected_chromedriver             0x0000000104ac0fce undetected_chromedriver + 4530126\n16  undetected_chromedriver             0x0000000104b0e5c8 undetected_chromedriver + 4847048\n17  undetected_chromedriver             0x0000000104b0e747 undetected_chromedriver + 4847431\n18  undetected_chromedriver             0x0000000104b2387f undetected_chromedriver + 4933759\n19  libsystem_pthread.dylib             0x00007ff8177171d3 _pthread_start + 125\n20  libsystem_pthread.dylib             0x00007ff817712bd3 thread_start + 15\n"
     ]
    }
   ],
   "source": [
    "# Busca el div que contiene la lista de detalles del coche\n",
    "details_div = driver.find_element(By.CLASS_NAME, \"mt-PanelAdDetails-data\")\n",
    "\n",
    "# Busca todas las etiquetas 'li' dentro del div\n",
    "details_list = details_div.find_elements(By.TAG_NAME, \"li\")\n",
    "\n",
    "# Itera sobre la lista de etiquetas 'li' y extrae el texto de la etiqueta 'strong' dentro de cada una\n",
    "car_details = {}\n",
    "for detail_item in details_list:\n",
    "    strong_tag = detail_item.find_element(By.TAG_NAME, \"strong\")\n",
    "    detail_text = strong_tag.text\n",
    "    print(detail_text)"
   ]
  },
  {
   "cell_type": "code",
   "execution_count": null,
   "metadata": {},
   "outputs": [],
   "source": [
    "# Busca todas las etiquetas 'script' dentro del 'body'\n",
    "script_tags = driver.find_elements(By.XPATH, \"//body//script\")\n",
    "\n",
    "# Obtiene la tercera etiqueta 'script' (índice 2)\n",
    "third_script = script_tags[3]\n",
    "\n",
    "# Si necesitas el contenido del script como texto\n",
    "script_content = third_script.get_attribute(\"innerHTML\")\n",
    "\n",
    "# Imprime el contenido del tercer script\n",
    "print(script_content)"
   ]
  },
  {
   "cell_type": "code",
   "execution_count": null,
   "metadata": {},
   "outputs": [],
   "source": [
    "# extraer la cadena JSON del texto plano\n",
    "print(script_content)\n",
    "match = re.search(r'JSON.parse\\(\"(.*?)\"\\);', script_content)\n",
    "print(match)\n",
    "\n",
    "json_string = match.group(1)\n",
    "json_string = re.sub(r'\\\\([\\\\\"])', r'\\1', json_string) # eliminar las barras invertidas escapadas\n",
    "json_string = json_string.replace('\\r', '') # eliminar los caracteres \"\\r\"\n",
    "print(json_string)\n",
    "\n",
    "# analizar la cadena JSON\n",
    "json_data = json.loads(json_string)\n",
    "\n",
    "# crear un DataFrame a partir de los datos analizados\n",
    "df = pd.json_normalize(json_data)"
   ]
  },
  {
   "cell_type": "code",
   "execution_count": null,
   "metadata": {},
   "outputs": [],
   "source": [
    "df"
   ]
  },
  {
   "cell_type": "code",
   "execution_count": null,
   "metadata": {},
   "outputs": [],
   "source": [
    "df = df.drop(['isPreview'], axis=1)\n",
    "df = df.drop(['breadcrumb'], axis=1)\n",
    "df = df.drop(['pageName'], axis=1)\n",
    "df = df.drop(['ad.description'], axis=1)\n",
    "df = df.drop(['tagclouds'], axis=1)\n",
    "df = df.drop(['ad.externalAdId'], axis=1)\n",
    "df = df.drop(['ad.environmentalLabel'], axis=1)\n",
    "df = df.drop(['vehicleInfo.vehicleId'], axis=1)\n",
    "df = df.drop(['vehicleInfo.uniqueVehicleId'], axis=1)"
   ]
  },
  {
   "cell_type": "code",
   "execution_count": null,
   "metadata": {},
   "outputs": [],
   "source": [
    "df"
   ]
  },
  {
   "cell_type": "code",
   "execution_count": null,
   "metadata": {},
   "outputs": [],
   "source": [
    "df.to_csv('data.csv', index=False)"
   ]
  },
  {
   "cell_type": "code",
   "execution_count": null,
   "metadata": {},
   "outputs": [],
   "source": [
    "driver = get_driver()\n",
    "driver2 = get_driver()\n",
    "links = get_links(driver, 'https://www.coches.net/segunda-mano/')\n",
    "cars = get_cars(driver2, links)\n",
    "links = get_links(driver, 'https://www.coches.net/segunda-mano/?pg=2')\n",
    "cars = get_cars(driver2, links)"
   ]
  },
  {
   "cell_type": "code",
   "execution_count": null,
   "metadata": {},
   "outputs": [],
   "source": [
    "def get_car(driver, url):\n",
    "    car = {}\n",
    "    actions = ActionChains(driver)\n",
    "    driver.get(url)\n",
    "    time.sleep(random.uniform(0.5, 1.5))\n",
    "    try:\n",
    "        button = driver.find_element(by=By.XPATH, value='/html/body/div[1]/div/div[2]/div/div[3]/div/div/div/footer/div/button[2]')\n",
    "        actions.move_to_element(button).perform()\n",
    "        button.click()\n",
    "        time.sleep(random.uniform(0.8, 1.2))\n",
    "    except:\n",
    "        pass\n",
    "    car['url'] = url\n",
    "    car['datetime'] = datetime.now()\n",
    "    #-----------------------------------------------------\n",
    "    car['resto_de_datos'] = get_resto_de_datos_del_coche()\n",
    "    #-----------------------------------------------------\n",
    "    try:\n",
    "        actions.move_by_offset(random.uniform(-20, 20), random.uniform(-100, 100))\n",
    "    except:\n",
    "        pass\n",
    "    time.sleep(random.uniform(1.8, 3.2))\n",
    "    return car"
   ]
  },
  {
   "cell_type": "code",
   "execution_count": null,
   "metadata": {},
   "outputs": [],
   "source": [
    "def get_links(driver, url):\n",
    "    actions = ActionChains(driver)\n",
    "    driver.get(url)\n",
    "    time.sleep(random.uniform(0.5, 1.5))\n",
    "    try:\n",
    "        button = driver.find_element(by=By.XPATH, value='/html/body/div/div/div[2]/div/div[2]/div/div/div/footer/div/button[2]')\n",
    "        actions.move_to_element(button).perform()\n",
    "        button.click()\n",
    "        time.sleep(random.uniform(0.8, 1.2))\n",
    "    except:\n",
    "        pass\n",
    "    increment = 100\n",
    "    position = 0\n",
    "    while True:\n",
    "        driver.execute_script(\"window.scrollTo(0, \" + str(increment) + \");\")\n",
    "        elements = ...\n",
    "        time.sleep(random.uniform(0.2, 0.8))\n",
    "        links = [element.get_attribute('href') for element in elements]\n",
    "        if position == 0:\n",
    "            try:\n",
    "                actions.move_to_element(elements[0]).perform()\n",
    "            except:\n",
    "                pass\n",
    "            position += 1\n",
    "        else:\n",
    "            try:\n",
    "                actions.move_by_offset(random.uniform(-20, 20), random.uniform(-100, 200))\n",
    "            except:\n",
    "                pass\n",
    "        increment += 300\n",
    "        if len(elements) >= 30 or increment >= 10000:\n",
    "            break\n",
    "    links = [element.get_attribute('href') for element in elements]\n",
    "    display(len(links))\n",
    "    display(links)\n",
    "    return links"
   ]
  }
 ],
 "metadata": {
  "kernelspec": {
   "display_name": "venv",
   "language": "python",
   "name": "python3"
  },
  "language_info": {
   "codemirror_mode": {
    "name": "ipython",
    "version": 3
   },
   "file_extension": ".py",
   "mimetype": "text/x-python",
   "name": "python",
   "nbconvert_exporter": "python",
   "pygments_lexer": "ipython3",
   "version": "3.9.6"
  },
  "orig_nbformat": 4
 },
 "nbformat": 4,
 "nbformat_minor": 2
}
