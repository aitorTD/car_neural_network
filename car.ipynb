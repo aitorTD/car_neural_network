{
 "cells": [
  {
   "attachments": {},
   "cell_type": "markdown",
   "metadata": {},
   "source": [
    "# Datos a extraer"
   ]
  },
  {
   "cell_type": "code",
   "execution_count": null,
   "metadata": {},
   "outputs": [],
   "source": [
    "# Datos que se quieren extraer:\n",
    "\n",
    "# 'color': 'COMMON.COLOR_GRAY',\n",
    "# 'fuelTypeId': '1',\n",
    "# 'fuelType': 'Diésel',\n",
    "# 'id': '54087183',\n",
    "# 'km': '105044',\n",
    "# 'make': 'AUDI',\n",
    "# 'makeId': '4',\n",
    "# 'model': 'A6',\n",
    "# 'modelId': '27',\n",
    "# 'price': '29850',\n",
    "# 'province': 'Barcelona',\n",
    "# 'provinceId': '8',\n",
    "# 'title': 'AUDI A6 Black line 2.0 TDI 140 S tro Avant 5p.',\n",
    "# 'transmissionType': 'COMMON.TRANSMISSION_AUTOMATIC',\n",
    "# 'transmissionTypeId': '1',\n",
    "# 'year': '2018',\n",
    "# 'seller_type': 'profesional',\n",
    "# 'bodyType': 'BODY_TYPE_FAMILIAR',\n",
    "# 'cubicCapacity': '1968',\n",
    "# 'doors': '5',\n",
    "# 'hp': '190',\n",
    "# 'url': 'https://www.coches.net/audi-a6-black-line-20-tdi-140-s-tro-avant-5p-diesel-2018-en-barcelona-54087183-covo.aspx'\n",
    "# 'fecha': fecha y hora del momento en el que se obtienen los datos"
   ]
  },
  {
   "attachments": {},
   "cell_type": "markdown",
   "metadata": {},
   "source": [
    "# Código"
   ]
  },
  {
   "cell_type": "code",
   "execution_count": null,
   "metadata": {},
   "outputs": [],
   "source": [
    "%pip install undetected-chromedriver"
   ]
  },
  {
   "cell_type": "code",
   "execution_count": null,
   "metadata": {},
   "outputs": [],
   "source": []
  },
  {
   "cell_type": "code",
   "execution_count": 46,
   "metadata": {},
   "outputs": [],
   "source": [
    "import ssl\n",
    "ssl._create_default_https_context = ssl._create_unverified_context\n",
    "\n",
    "from selenium.webdriver import ActionChains\n",
    "from selenium.webdriver.common.by import By\n",
    "from datetime import datetime\n",
    "import random\n",
    "import re\n",
    "import time\n",
    "import undetected_chromedriver as uc\n",
    "from selenium import webdriver\n",
    "import json"
   ]
  },
  {
   "cell_type": "code",
   "execution_count": 3,
   "metadata": {},
   "outputs": [],
   "source": [
    "def get_driver():\n",
    "  options = webdriver.ChromeOptions()\n",
    "  options.add_argument('--user-agent=Mozilla/5.0 (Windows NT 10.0; Win64; x64) AppleWebKit/537.36 (KHTML, like Gecko) Chrome/94.0.4606.61 Safari/537.36')\n",
    "  options.add_argument(\"--incognito\")\n",
    "  driver = uc.Chrome(options = options)\n",
    "  driver.set_page_load_timeout(60)\n",
    "  driver.set_window_size(1366, 768)\n",
    "  driver.set_window_position(0, 0)\n",
    "  driver.delete_all_cookies()\n",
    "  driver.execute_script(\"localStorage.clear();\")\n",
    "  driver.execute_script(\"sessionStorage.clear();\")\n",
    "  driver.execute_script(\"history.go(0);\")\n",
    "  driver.execute_cdp_cmd('Page.addScriptToEvaluateOnNewDocument', {\n",
    "    'source': 'Object.defineProperty(navigator, \"webdriver\", {get: () => undefined})'\n",
    "  })\n",
    "  return driver"
   ]
  },
  {
   "cell_type": "code",
   "execution_count": null,
   "metadata": {},
   "outputs": [],
   "source": [
    "def get_cars(driver, urls):\n",
    "    cars = []\n",
    "    max_cars = 3\n",
    "    cars_total = 0\n",
    "    for url in urls:\n",
    "        if url != None:\n",
    "            car = get_car(driver, url)\n",
    "            cars.append(car)\n",
    "            cars_total += 1\n",
    "            if cars_total >= max_cars:\n",
    "                break\n",
    "    print(len(cars))\n",
    "    print(cars)\n",
    "    return cars"
   ]
  },
  {
   "cell_type": "code",
   "execution_count": 4,
   "metadata": {},
   "outputs": [],
   "source": [
    "driver = get_driver()\n",
    "actions = ActionChains(driver)\n",
    "driver.get('https://www.coches.net/ford-mustang-50-tivct-v8-336kw-mustang-gt-afast-2p-gasolina-2019-en-madrid-54600819-covo.aspx') # Añadir el coche scrapeado aquí.\n",
    "\n",
    "try:\n",
    "  actions.move_by_offset(random.uniform(-20, 20), random.uniform(-100, 200))\n",
    "except:\n",
    "  pass\n",
    "time.sleep(random.uniform(0.5, 1.5))\n",
    "try:\n",
    "  button = driver.find_element(by=By.XPATH, value='/html/body/div[1]/div/div[2]/div/div[3]/div/div/div/footer/div/button[2]')\n",
    "  try:\n",
    "    actions.move_to_element(button).perform()\n",
    "  except:\n",
    "    pass\n",
    "  button.click()\n",
    "  time.sleep(random.uniform(0.8, 1.2))\n",
    "except:\n",
    "  pass"
   ]
  },
  {
   "cell_type": "code",
   "execution_count": 49,
   "metadata": {},
   "outputs": [
    {
     "name": "stdout",
     "output_type": "stream",
     "text": [
      "2019\n",
      "22.856\n",
      "Madrid\n",
      "Coupe\n",
      "Automático\n",
      "2\n",
      "4\n",
      "5038\n",
      "450\n",
      "Rojo\n",
      "271\n",
      "Gasolina\n",
      "12 meses (1 año)\n",
      "Etiqueta C (verde)\n"
     ]
    }
   ],
   "source": [
    "# Busca el div que contiene la lista de detalles del coche\n",
    "details_div = driver.find_element(By.CLASS_NAME, \"mt-PanelAdDetails-data\")\n",
    "\n",
    "# Busca todas las etiquetas 'li' dentro del div\n",
    "details_list = details_div.find_elements(By.TAG_NAME, \"li\")\n",
    "\n",
    "# Itera sobre la lista de etiquetas 'li' y extrae el texto de la etiqueta 'strong' dentro de cada una\n",
    "car_details = {}\n",
    "for detail_item in details_list:\n",
    "    strong_tag = detail_item.find_element(By.TAG_NAME, \"strong\")\n",
    "    detail_text = strong_tag.text\n",
    "    print(detail_text)"
   ]
  },
  {
   "cell_type": "code",
   "execution_count": 54,
   "metadata": {},
   "outputs": [
    {
     "name": "stdout",
     "output_type": "stream",
     "text": [
      "window.__INITIAL_PROPS__ = JSON.parse(\"{\\\"ad\\\":{\\\"bodyTypeId\\\":2,\\\"color\\\":\\\"COMMON.COLOR_RED\\\",\\\"creationDate\\\":\\\"2023-03-14T10:34:55+01:00\\\",\\\"description\\\":\\\"Aprovecha el plan renove de Yamovil. Este coche de segunda mano Coup\\u00E9 / Deportivo de combustible Gasolina, tiene un consumo urbano de 19.0l., consumo en carretera de 8.2l., y consumo combinado de 12.1l., tiene una potencia de / 527 Nm y una cilindrada de 5038 cc. Emisiones CO2 de258 (gr/km). Tipo de emisiones EU6.2 (C y D-Temp). Dispone de 4 plazas , contando adem\\u00E1s con Luz diurna, Control de velocidad, Volante multifunci\\u00F3n, Bluetooth, Asientos deportivos, Llantas de aleaci\\u00F3n, Llantas de aleaci\\u00F3n de 19, Ordenador, Faros antiniebla, Aire Acondicionado, Climatizador, Airbag, Airbag para el acompa\\u00F1ante, Airbag para el conductor, Airbags laterales, Frenos ABS antibloqueo, ESP, Direcci\\u00F3n asistida, Elevalunas el\\u00E9ctrico, Cierre centralizado, CD, Reposabrazos central, Tapicer\\u00EDa de piel, Servodirecci\\u00F3n, Control de crucero adaptativo, Asistente de cambio de carril, Asistente de mantenimiento de carril, Asistente de aparcamiento, Asistente para las luces de carretera, Conexi\\u00F3n el\\u00E9ctrica, Asistente de arranque en pendiente, Faros delanteros led, Faros traseros led, Isofix, Sensor de lluvia, Encendido autom\\u00E1tico de faros, Arranque por bot\\u00F3n, Sensor de presi\\u00F3n de neum\\u00E1ticos, Car Play. N\\u00BA de cilindros: 8, En V, Cubicaje: 5.038 cm3, Potencia: 331 KW, N\\u00BA de marchas: 10, Velocidad m\\u00E1xima: 249 Km/h, Aceleraci\\u00F3n: 4.3 s., Cosumo mixto: 12.1 l/100 Km, Y calificaci\\u00F3n energ\\u00E9tica G.\\\\rNO PIERDAS LA OPORTUNIDAD DE PROBARLO EN CALLE EMBAJADORES, 147 MADRID\\\\r\\\\rGarant\\u00EDa total\\\\rFinanciaci\\u00F3n a su medida, desde el 6,99%.\\\\rContado oferta especial plan renove de YAMOVIL, \\u00A1\\u00A1Aprov\\u00E9chala!!.\\\\rAdmitimos tu antiguo coche como parte de pago.\\\\rCertificaci\\u00F3n kilometraje y ausencia golpe estructural.\\\\r15 d\\u00EDas de prueba o 1.000 km.\\\\rCuota de financiaci\\u00F3n orientativa, para m\\u00E1s informaci\\u00F3n p\\u00F3ngase en contacto con uno de nuestros comerciales.\\\\rPara m\\u00E1s informaci\\u00F3n consulte a nuestros comerciales.\\\\r\\\\rCons\\u00FAltenos sobre este modelo o cualquier otro, disponemos de centenares de veh\\u00EDculos en stock.\\\\r\\\\rLas fotos son totalmente reales y se corresponde con el veh\\u00EDculo que podr\\u00E1n ver f\\u00EDsicamente en nuestras instalaciones, as\\u00ED como precio, extras, modelo y kil\\u00F3metros salvo \\\\\\\"error tipogr\\u00E1fico o de transcripci\\u00F3n\\\\\\\"\\\\reximiendo a la compa\\u00F1\\u00EDa de toda responsabilidad f\\u00EDsica o comercial derivada de estos errores ante cualquier reclamaci\\u00F3n posterior.\\\\r\\\\rPara una informaci\\u00F3n m\\u00E1s amplia y exacta preguntar a nuestro personal especializado.\\\\r\\\\r\\u00A1VEN A PROBARLO! Te esperamos en YAMOVIL.\\\\r\\\\rPOR UN MUNDO CON MEJORES COCHES\\\\r\\\\rRef. 3775\\\\r\\\\rPrecio: 48.950 EUR\\\\r\\\\rPrecio financiado: 46.950 EUR\\\\r\\\\rPrecio nuevo: 52.850 EUR\\\\r\\\\r\\\\rPintura:\\\\rPN4A70 Rojo Race\\\\r\\\\rTapicer\\u00EDa:\\\\r2Z5ZH0 Natural Grain/Ebony\\\\r\\\\rEquipamiento Opcional Incluido:\\\\rHNCAC Con sistema alarma a distancia-pats\\\\rBY2AD Asientos delanteros refrigerados y calefactables\\\\rBYQAC Asiento acompa\\u00F1ante ajuste el\\u00E9ctrico con 6 direcciones\\\\rTREU0 Caja cambi\\u00F3 autom\\u00E1tico 10 velocidades\\\\r\\\",\\\"externalAdId\\\":\\\"143402768\\\",\\\"environmentalLabel\\\":\\\"C\\\",\\\"financedPrice\\\":46950,\\\"fuelType\\\":\\\"Gasolina\\\",\\\"fuelTypeId\\\":2,\\\"hasOfficialWarranty\\\":false,\\\"hasStock\\\":false,\\\"hasWarranty\\\":true,\\\"id\\\":\\\"54600819\\\",\\\"img\\\":\\\"https://a.ccdn.es/cnet/2023/03/14/54600819/656903803_g.jpg\\\",\\\"imgUrl\\\":\\\"https://a.ccdn.es/cnet/2023/03/14/54600819/656903803_g.jpg/359x269cut/\\\",\\\"includesTaxes\\\":true,\\\"isCertified\\\":false,\\\"isFinanced\\\":true,\\\"isProfessional\\\":true,\\\"isUrlSemantic\\\":true,\\\"km\\\":22856,\\\"location\\\":{\\\"provinceIds\\\":[28,45],\\\"mainProvinceId\\\":28},\\\"make\\\":\\\"FORD\\\",\\\"makeId\\\":15,\\\"model\\\":\\\"Mustang\\\",\\\"modelId\\\":1130,\\\"price\\\":48950,\\\"url\\\":\\\"/ford-mustang-50-tivct-v8-336kw-mustang-gt-afast-2p-gasolina-2019-en-madrid-54600819-covo.aspx\\\",\\\"phone\\\":\\\"608206636\\\",\\\"photos\\\":[\\\"https://a.ccdn.es/cnet/2023/03/14/54600819/656903803_g.jpg\\\",\\\"https://a.ccdn.es/cnet/2023/03/14/54600819/657559091_g.jpg\\\",\\\"https://a.ccdn.es/cnet/2023/03/14/54600819/657559064_g.jpg\\\",\\\"https://a.ccdn.es/cnet/2023/03/14/54600819/657559066_g.jpg\\\",\\\"https://a.ccdn.es/cnet/2023/03/14/54600819/657559068_g.jpg\\\",\\\"https://a.ccdn.es/cnet/2023/03/14/54600819/657559070_g.jpg\\\",\\\"https://a.ccdn.es/cnet/2023/03/14/54600819/657559072_g.jpg\\\",\\\"https://a.ccdn.es/cnet/2023/03/14/54600819/657559075_g.jpg\\\",\\\"https://a.ccdn.es/cnet/2023/03/14/54600819/657559078_g.jpg\\\",\\\"https://a.ccdn.es/cnet/2023/03/14/54600819/657559080_g.jpg\\\",\\\"https://a.ccdn.es/cnet/2023/03/14/54600819/657559083_g.jpg\\\",\\\"https://a.ccdn.es/cnet/2023/03/14/54600819/657559087_g.jpg\\\",\\\"https://a.ccdn.es/cnet/2023/03/14/54600819/657559067_g.jpg\\\",\\\"https://a.ccdn.es/cnet/2023/03/14/54600819/657559094_g.jpg\\\",\\\"https://a.ccdn.es/cnet/2023/03/14/54600819/657559099_g.jpg\\\",\\\"https://a.ccdn.es/cnet/2023/03/14/54600819/657559103_g.jpg\\\",\\\"https://a.ccdn.es/cnet/2023/03/14/54600819/657559107_g.jpg\\\",\\\"https://a.ccdn.es/cnet/2023/03/14/54600819/657365572_g.jpg\\\",\\\"https://a.ccdn.es/cnet/2023/03/14/54600819/657559114_g.jpg\\\",\\\"https://a.ccdn.es/cnet/2023/03/14/54600819/657559118_g.jpg\\\",\\\"https://a.ccdn.es/cnet/2023/03/14/54600819/657559121_g.jpg\\\",\\\"https://a.ccdn.es/cnet/2023/03/14/54600819/657559125_g.jpg\\\",\\\"https://a.ccdn.es/cnet/2023/03/14/54600819/657559129_g.jpg\\\",\\\"https://a.ccdn.es/cnet/2023/03/14/54600819/657559132_g.jpg\\\",\\\"https://a.ccdn.es/cnet/2023/03/14/54600819/657559135_g.jpg\\\",\\\"https://a.ccdn.es/cnet/2023/03/14/54600819/657559069_g.jpg\\\",\\\"https://a.ccdn.es/cnet/2023/03/14/54600819/657559139_g.jpg\\\",\\\"https://a.ccdn.es/cnet/2023/03/14/54600819/657559071_g.jpg\\\",\\\"https://a.ccdn.es/cnet/2023/03/14/54600819/657559073_g.jpg\\\",\\\"https://a.ccdn.es/cnet/2023/03/14/54600819/657559143_g.jpg\\\",\\\"https://a.ccdn.es/cnet/2023/03/14/54600819/657150370_g.jpg\\\",\\\"https://a.ccdn.es/cnet/2023/03/14/54600819/657559076_g.jpg\\\"],\\\"province\\\":\\\"Madrid\\\",\\\"provinceId\\\":28,\\\"publicationDate\\\":\\\"2023-03-29T00:00:00+02:00\\\",\\\"taxTypeId\\\":1,\\\"title\\\":\\\"FORD Mustang 5.0 TiVCT V8 336kW Mustang GT A.Fast. 2p.\\\",\\\"transmissionType\\\":\\\"COMMON.TRANSMISSION_AUTOMATIC\\\",\\\"transmissionTypeId\\\":1,\\\"version\\\":\\\"5.0 TiVCT V8 336kW Mustang GT A.Fast.\\\",\\\"versionId\\\":86084,\\\"warrantyId\\\":2,\\\"warrantyMonths\\\":12,\\\"year\\\":2019},\\\"adStats\\\":{\\\"favorites\\\":0,\\\"views\\\":0},\\\"adType\\\":{\\\"category1Id\\\":2500,\\\"category2Id\\\":2500,\\\"category3Id\\\":2500,\\\"offerTypeId\\\":0},\\\"alertSearch\\\":{\\\"page\\\":1,\\\"sortBy\\\":\\\"relevance\\\",\\\"sortOrder\\\":\\\"DESC\\\",\\\"bodyTypeIds\\\":[2],\\\"category1Id\\\":2500,\\\"category2Id\\\":2500,\\\"category3Id\\\":2500,\\\"fuelTypeIds\\\":[2],\\\"make\\\":\\\"FORD\\\",\\\"makeId\\\":15,\\\"model\\\":{\\\"id\\\":1130,\\\"name\\\":\\\"Mustang\\\"},\\\"offerTypeId\\\":0,\\\"provinceIds\\\":[28],\\\"transmissionTypeId\\\":1,\\\"year\\\":{\\\"from\\\":2017,\\\"to\\\":2021}},\\\"breadcrumb\\\":[{\\\"label\\\":\\\"Coches de segunda mano\\\",\\\"url\\\":\\\"https://www.coches.net/segunda-mano/\\\"},{\\\"label\\\":\\\"FORD\\\",\\\"url\\\":\\\"https://www.coches.net/ford/segunda-mano/\\\"},{\\\"label\\\":\\\"Mustang\\\",\\\"url\\\":\\\"https://www.coches.net/ford/mustang/segunda-mano/\\\"},{\\\"label\\\":\\\"Madrid\\\",\\\"url\\\":\\\"https://www.coches.net/ford/mustang/segunda-mano/madrid/\\\"},{\\\"label\\\":\\\"5.0 TiVCT V8 336kW Mustang GT A.Fast.\\\"}],\\\"dealerAds\\\":{\\\"items\\\":[{\\\"bodyTypeId\\\":1,\\\"creationDate\\\":\\\"2023-02-27T10:25:45Z\\\",\\\"financingInfo\\\":{\\\"lender\\\":\\\"caixa\\\",\\\"instalment\\\":255.89,\\\"terms\\\":60,\\\"tae\\\":8.6274,\\\"entry\\\":0},\\\"fuelType\\\":\\\"Di\\u00E9sel\\\",\\\"fuelTypeId\\\":1,\\\"hasWarranty\\\":true,\\\"id\\\":\\\"54453316\\\",\\\"img\\\":\\\"https://a.ccdn.es/cnet/2023/02/27/54453316/656926359_g.jpg\\\",\\\"imgUrl\\\":\\\"https://a.ccdn.es/cnet/2023/02/27/54453316/656926359_g.jpg/359x269cut/\\\",\\\"includesTaxes\\\":true,\\\"isCertified\\\":false,\\\"isFinanced\\\":false,\\\"isUrgent\\\":false,\\\"isProfessional\\\":true,\\\"isUrlSemantic\\\":true,\\\"km\\\":123231,\\\"location\\\":{\\\"provinceIds\\\":[28,45],\\\"mainProvince\\\":\\\"Madrid\\\",\\\"mainProvinceId\\\":28},\\\"price\\\":11750,\\\"url\\\":\\\"/ford-focus-15-tdci-e6-120cv-trend-5p-diesel-2016-en-madrid-54453316-covo.aspx\\\",\\\"offerType\\\":{\\\"id\\\":0,\\\"literal\\\":\\\"Ocasi\\u00F3n\\\"},\\\"phone\\\":\\\"608206636\\\",\\\"photos\\\":[\\\"https://a.ccdn.es/cnet/2023/02/27/54453316/656926359_g.jpg\\\",\\\"https://a.ccdn.es/cnet/2023/02/27/54453316/657614377_g.jpg\\\",\\\"https://a.ccdn.es/cnet/2023/02/27/54453316/657614382_g.jpg\\\",\\\"https://a.ccdn.es/cnet/2023/02/27/54453316/657614366_g.jpg\\\",\\\"https://a.ccdn.es/cnet/2023/02/27/54453316/657614371_g.jpg\\\",\\\"https://a.ccdn.es/cnet/2023/02/27/54453316/657614376_g.jpg\\\",\\\"https://a.ccdn.es/cnet/2023/02/27/54453316/657614381_g.jpg\\\",\\\"https://a.ccdn.es/cnet/2023/02/27/54453316/657614386_g.jpg\\\",\\\"https://a.ccdn.es/cnet/2023/02/27/54453316/657614388_g.jpg\\\",\\\"https://a.ccdn.es/cnet/2023/02/27/54453316/657614391_g.jpg\\\",\\\"https://a.ccdn.es/cnet/2023/02/27/54453316/657614392_g.jpg\\\",\\\"https://a.ccdn.es/cnet/2023/02/27/54453316/657614393_g.jpg\\\",\\\"https://a.ccdn.es/cnet/2023/02/27/54453316/657614395_g.jpg\\\",\\\"https://a.ccdn.es/cnet/2023/02/27/54453316/657614398_g.jpg\\\",\\\"https://a.ccdn.es/cnet/2023/02/27/54453316/657614401_g.jpg\\\",\\\"https://a.ccdn.es/cnet/2023/02/27/54453316/657614403_g.jpg\\\",\\\"https://a.ccdn.es/cnet/2023/02/27/54453316/657614405_g.jpg\\\",\\\"https://a.ccdn.es/cnet/2023/02/27/54453316/657614407_g.jpg\\\",\\\"https://a.ccdn.es/cnet/2023/02/27/54453316/657614408_g.jpg\\\",\\\"https://a.ccdn.es/cnet/2023/02/27/54453316/657614410_g.jpg\\\",\\\"https://a.ccdn.es/cnet/2023/02/27/54453316/657614412_g.jpg\\\",\\\"https://a.ccdn.es/cnet/2023/02/27/54453316/657614415_g.jpg\\\",\\\"https://a.ccdn.es/cnet/2023/02/27/54453316/657614419_g.jpg\\\",\\\"https://a.ccdn.es/cnet/2023/02/27/54453316/657614418_g.jpg\\\",\\\"https://a.ccdn.es/cnet/2023/02/27/54453316/652544245_g.jpg\\\",\\\"https://a.ccdn.es/cnet/2023/02/27/54453316/657614421_g.jpg\\\",\\\"…\n"
     ]
    }
   ],
   "source": [
    "# Busca todas las etiquetas 'script' dentro del 'body'\n",
    "script_tags = driver.find_elements(By.XPATH, \"//body//script\")\n",
    "\n",
    "# Obtiene la tercera etiqueta 'script' (índice 2)\n",
    "third_script = script_tags[3]\n",
    "\n",
    "# Si necesitas el contenido del script como texto\n",
    "script_content = third_script.get_attribute(\"innerHTML\")\n",
    "\n",
    "# Imprime el contenido del tercer script\n",
    "print(script_content)"
   ]
  },
  {
   "cell_type": "code",
   "execution_count": 40,
   "metadata": {},
   "outputs": [
    {
     "name": "stdout",
     "output_type": "stream",
     "text": [
      "\n"
     ]
    }
   ],
   "source": [
    "start_index = script_content.find(\"{\\\"taxTypeId\\\":\")\n",
    "end_index = script_content.find(\",\", start_index)\n",
    "json_str = script_content[start_index:end_index]\n",
    "\n",
    "print(json_str)"
   ]
  },
  {
   "cell_type": "code",
   "execution_count": 57,
   "metadata": {},
   "outputs": [
    {
     "name": "stdout",
     "output_type": "stream",
     "text": [
      "window.__INITIAL_PROPS__ = JSON.parse(\"{\\\"ad\\\":{\\\"bodyTypeId\\\":2,\\\"color\\\":\\\"COMMON.COLOR_RED\\\",\\\"creationDate\\\":\\\"2023-03-14T10:34:55+01:00\\\",\\\"description\\\":\\\"Aprovecha el plan renove de Yamovil. Este coche de segunda mano Coup\\u00E9 / Deportivo de combustible Gasolina, tiene un consumo urbano de 19.0l., consumo en carretera de 8.2l., y consumo combinado de 12.1l., tiene una potencia de / 527 Nm y una cilindrada de 5038 cc. Emisiones CO2 de258 (gr/km). Tipo de emisiones EU6.2 (C y D-Temp). Dispone de 4 plazas , contando adem\\u00E1s con Luz diurna, Control de velocidad, Volante multifunci\\u00F3n, Bluetooth, Asientos deportivos, Llantas de aleaci\\u00F3n, Llantas de aleaci\\u00F3n de 19, Ordenador, Faros antiniebla, Aire Acondicionado, Climatizador, Airbag, Airbag para el acompa\\u00F1ante, Airbag para el conductor, Airbags laterales, Frenos ABS antibloqueo, ESP, Direcci\\u00F3n asistida, Elevalunas el\\u00E9ctrico, Cierre centralizado, CD, Reposabrazos central, Tapicer\\u00EDa de piel, Servodirecci\\u00F3n, Control de crucero adaptativo, Asistente de cambio de carril, Asistente de mantenimiento de carril, Asistente de aparcamiento, Asistente para las luces de carretera, Conexi\\u00F3n el\\u00E9ctrica, Asistente de arranque en pendiente, Faros delanteros led, Faros traseros led, Isofix, Sensor de lluvia, Encendido autom\\u00E1tico de faros, Arranque por bot\\u00F3n, Sensor de presi\\u00F3n de neum\\u00E1ticos, Car Play. N\\u00BA de cilindros: 8, En V, Cubicaje: 5.038 cm3, Potencia: 331 KW, N\\u00BA de marchas: 10, Velocidad m\\u00E1xima: 249 Km/h, Aceleraci\\u00F3n: 4.3 s., Cosumo mixto: 12.1 l/100 Km, Y calificaci\\u00F3n energ\\u00E9tica G.\\\\rNO PIERDAS LA OPORTUNIDAD DE PROBARLO EN CALLE EMBAJADORES, 147 MADRID\\\\r\\\\rGarant\\u00EDa total\\\\rFinanciaci\\u00F3n a su medida, desde el 6,99%.\\\\rContado oferta especial plan renove de YAMOVIL, \\u00A1\\u00A1Aprov\\u00E9chala!!.\\\\rAdmitimos tu antiguo coche como parte de pago.\\\\rCertificaci\\u00F3n kilometraje y ausencia golpe estructural.\\\\r15 d\\u00EDas de prueba o 1.000 km.\\\\rCuota de financiaci\\u00F3n orientativa, para m\\u00E1s informaci\\u00F3n p\\u00F3ngase en contacto con uno de nuestros comerciales.\\\\rPara m\\u00E1s informaci\\u00F3n consulte a nuestros comerciales.\\\\r\\\\rCons\\u00FAltenos sobre este modelo o cualquier otro, disponemos de centenares de veh\\u00EDculos en stock.\\\\r\\\\rLas fotos son totalmente reales y se corresponde con el veh\\u00EDculo que podr\\u00E1n ver f\\u00EDsicamente en nuestras instalaciones, as\\u00ED como precio, extras, modelo y kil\\u00F3metros salvo \\\\\\\"error tipogr\\u00E1fico o de transcripci\\u00F3n\\\\\\\"\\\\reximiendo a la compa\\u00F1\\u00EDa de toda responsabilidad f\\u00EDsica o comercial derivada de estos errores ante cualquier reclamaci\\u00F3n posterior.\\\\r\\\\rPara una informaci\\u00F3n m\\u00E1s amplia y exacta preguntar a nuestro personal especializado.\\\\r\\\\r\\u00A1VEN A PROBARLO! Te esperamos en YAMOVIL.\\\\r\\\\rPOR UN MUNDO CON MEJORES COCHES\\\\r\\\\rRef. 3775\\\\r\\\\rPrecio: 48.950 EUR\\\\r\\\\rPrecio financiado: 46.950 EUR\\\\r\\\\rPrecio nuevo: 52.850 EUR\\\\r\\\\r\\\\rPintura:\\\\rPN4A70 Rojo Race\\\\r\\\\rTapicer\\u00EDa:\\\\r2Z5ZH0 Natural Grain/Ebony\\\\r\\\\rEquipamiento Opcional Incluido:\\\\rHNCAC Con sistema alarma a distancia-pats\\\\rBY2AD Asientos delanteros refrigerados y calefactables\\\\rBYQAC Asiento acompa\\u00F1ante ajuste el\\u00E9ctrico con 6 direcciones\\\\rTREU0 Caja cambi\\u00F3 autom\\u00E1tico 10 velocidades\\\\r\\\",\\\"externalAdId\\\":\\\"143402768\\\",\\\"environmentalLabel\\\":\\\"C\\\",\\\"financedPrice\\\":46950,\\\"fuelType\\\":\\\"Gasolina\\\",\\\"fuelTypeId\\\":2,\\\"hasOfficialWarranty\\\":false,\\\"hasStock\\\":false,\\\"hasWarranty\\\":true,\\\"id\\\":\\\"54600819\\\",\\\"img\\\":\\\"https://a.ccdn.es/cnet/2023/03/14/54600819/656903803_g.jpg\\\",\\\"imgUrl\\\":\\\"https://a.ccdn.es/cnet/2023/03/14/54600819/656903803_g.jpg/359x269cut/\\\",\\\"includesTaxes\\\":true,\\\"isCertified\\\":false,\\\"isFinanced\\\":true,\\\"isProfessional\\\":true,\\\"isUrlSemantic\\\":true,\\\"km\\\":22856,\\\"location\\\":{\\\"provinceIds\\\":[28,45],\\\"mainProvinceId\\\":28},\\\"make\\\":\\\"FORD\\\",\\\"makeId\\\":15,\\\"model\\\":\\\"Mustang\\\",\\\"modelId\\\":1130,\\\"price\\\":48950,\\\"url\\\":\\\"/ford-mustang-50-tivct-v8-336kw-mustang-gt-afast-2p-gasolina-2019-en-madrid-54600819-covo.aspx\\\",\\\"phone\\\":\\\"608206636\\\",\\\"photos\\\":[\\\"https://a.ccdn.es/cnet/2023/03/14/54600819/656903803_g.jpg\\\",\\\"https://a.ccdn.es/cnet/2023/03/14/54600819/657559091_g.jpg\\\",\\\"https://a.ccdn.es/cnet/2023/03/14/54600819/657559064_g.jpg\\\",\\\"https://a.ccdn.es/cnet/2023/03/14/54600819/657559066_g.jpg\\\",\\\"https://a.ccdn.es/cnet/2023/03/14/54600819/657559068_g.jpg\\\",\\\"https://a.ccdn.es/cnet/2023/03/14/54600819/657559070_g.jpg\\\",\\\"https://a.ccdn.es/cnet/2023/03/14/54600819/657559072_g.jpg\\\",\\\"https://a.ccdn.es/cnet/2023/03/14/54600819/657559075_g.jpg\\\",\\\"https://a.ccdn.es/cnet/2023/03/14/54600819/657559078_g.jpg\\\",\\\"https://a.ccdn.es/cnet/2023/03/14/54600819/657559080_g.jpg\\\",\\\"https://a.ccdn.es/cnet/2023/03/14/54600819/657559083_g.jpg\\\",\\\"https://a.ccdn.es/cnet/2023/03/14/54600819/657559087_g.jpg\\\",\\\"https://a.ccdn.es/cnet/2023/03/14/54600819/657559067_g.jpg\\\",\\\"https://a.ccdn.es/cnet/2023/03/14/54600819/657559094_g.jpg\\\",\\\"https://a.ccdn.es/cnet/2023/03/14/54600819/657559099_g.jpg\\\",\\\"https://a.ccdn.es/cnet/2023/03/14/54600819/657559103_g.jpg\\\",\\\"https://a.ccdn.es/cnet/2023/03/14/54600819/657559107_g.jpg\\\",\\\"https://a.ccdn.es/cnet/2023/03/14/54600819/657365572_g.jpg\\\",\\\"https://a.ccdn.es/cnet/2023/03/14/54600819/657559114_g.jpg\\\",\\\"https://a.ccdn.es/cnet/2023/03/14/54600819/657559118_g.jpg\\\",\\\"https://a.ccdn.es/cnet/2023/03/14/54600819/657559121_g.jpg\\\",\\\"https://a.ccdn.es/cnet/2023/03/14/54600819/657559125_g.jpg\\\",\\\"https://a.ccdn.es/cnet/2023/03/14/54600819/657559129_g.jpg\\\",\\\"https://a.ccdn.es/cnet/2023/03/14/54600819/657559132_g.jpg\\\",\\\"https://a.ccdn.es/cnet/2023/03/14/54600819/657559135_g.jpg\\\",\\\"https://a.ccdn.es/cnet/2023/03/14/54600819/657559069_g.jpg\\\",\\\"https://a.ccdn.es/cnet/2023/03/14/54600819/657559139_g.jpg\\\",\\\"https://a.ccdn.es/cnet/2023/03/14/54600819/657559071_g.jpg\\\",\\\"https://a.ccdn.es/cnet/2023/03/14/54600819/657559073_g.jpg\\\",\\\"https://a.ccdn.es/cnet/2023/03/14/54600819/657559143_g.jpg\\\",\\\"https://a.ccdn.es/cnet/2023/03/14/54600819/657150370_g.jpg\\\",\\\"https://a.ccdn.es/cnet/2023/03/14/54600819/657559076_g.jpg\\\"],\\\"province\\\":\\\"Madrid\\\",\\\"provinceId\\\":28,\\\"publicationDate\\\":\\\"2023-03-29T00:00:00+02:00\\\",\\\"taxTypeId\\\":1,\\\"title\\\":\\\"FORD Mustang 5.0 TiVCT V8 336kW Mustang GT A.Fast. 2p.\\\",\\\"transmissionType\\\":\\\"COMMON.TRANSMISSION_AUTOMATIC\\\",\\\"transmissionTypeId\\\":1,\\\"version\\\":\\\"5.0 TiVCT V8 336kW Mustang GT A.Fast.\\\",\\\"versionId\\\":86084,\\\"warrantyId\\\":2,\\\"warrantyMonths\\\":12,\\\"year\\\":2019},\\\"adStats\\\":{\\\"favorites\\\":0,\\\"views\\\":0},\\\"adType\\\":{\\\"category1Id\\\":2500,\\\"category2Id\\\":2500,\\\"category3Id\\\":2500,\\\"offerTypeId\\\":0},\\\"alertSearch\\\":{\\\"page\\\":1,\\\"sortBy\\\":\\\"relevance\\\",\\\"sortOrder\\\":\\\"DESC\\\",\\\"bodyTypeIds\\\":[2],\\\"category1Id\\\":2500,\\\"category2Id\\\":2500,\\\"category3Id\\\":2500,\\\"fuelTypeIds\\\":[2],\\\"make\\\":\\\"FORD\\\",\\\"makeId\\\":15,\\\"model\\\":{\\\"id\\\":1130,\\\"name\\\":\\\"Mustang\\\"},\\\"offerTypeId\\\":0,\\\"provinceIds\\\":[28],\\\"transmissionTypeId\\\":1,\\\"year\\\":{\\\"from\\\":2017,\\\"to\\\":2021}},\\\"breadcrumb\\\":[{\\\"label\\\":\\\"Coches de segunda mano\\\",\\\"url\\\":\\\"https://www.coches.net/segunda-mano/\\\"},{\\\"label\\\":\\\"FORD\\\",\\\"url\\\":\\\"https://www.coches.net/ford/segunda-mano/\\\"},{\\\"label\\\":\\\"Mustang\\\",\\\"url\\\":\\\"https://www.coches.net/ford/mustang/segunda-mano/\\\"},{\\\"label\\\":\\\"Madrid\\\",\\\"url\\\":\\\"https://www.coches.net/ford/mustang/segunda-mano/madrid/\\\"},{\\\"label\\\":\\\"5.0 TiVCT V8 336kW Mustang GT A.Fast.\\\"}],\\\"dealerAds\\\":{\\\"items\\\":[{\\\"bodyTypeId\\\":1,\\\"creationDate\\\":\\\"2023-02-27T10:25:45Z\\\",\\\"financingInfo\\\":{\\\"lender\\\":\\\"caixa\\\",\\\"instalment\\\":255.89,\\\"terms\\\":60,\\\"tae\\\":8.6274,\\\"entry\\\":0},\\\"fuelType\\\":\\\"Di\\u00E9sel\\\",\\\"fuelTypeId\\\":1,\\\"hasWarranty\\\":true,\\\"id\\\":\\\"54453316\\\",\\\"img\\\":\\\"https://a.ccdn.es/cnet/2023/02/27/54453316/656926359_g.jpg\\\",\\\"imgUrl\\\":\\\"https://a.ccdn.es/cnet/2023/02/27/54453316/656926359_g.jpg/359x269cut/\\\",\\\"includesTaxes\\\":true,\\\"isCertified\\\":false,\\\"isFinanced\\\":false,\\\"isUrgent\\\":false,\\\"isProfessional\\\":true,\\\"isUrlSemantic\\\":true,\\\"km\\\":123231,\\\"location\\\":{\\\"provinceIds\\\":[28,45],\\\"mainProvince\\\":\\\"Madrid\\\",\\\"mainProvinceId\\\":28},\\\"price\\\":11750,\\\"url\\\":\\\"/ford-focus-15-tdci-e6-120cv-trend-5p-diesel-2016-en-madrid-54453316-covo.aspx\\\",\\\"offerType\\\":{\\\"id\\\":0,\\\"literal\\\":\\\"Ocasi\\u00F3n\\\"},\\\"phone\\\":\\\"608206636\\\",\\\"photos\\\":[\\\"https://a.ccdn.es/cnet/2023/02/27/54453316/656926359_g.jpg\\\",\\\"https://a.ccdn.es/cnet/2023/02/27/54453316/657614377_g.jpg\\\",\\\"https://a.ccdn.es/cnet/2023/02/27/54453316/657614382_g.jpg\\\",\\\"https://a.ccdn.es/cnet/2023/02/27/54453316/657614366_g.jpg\\\",\\\"https://a.ccdn.es/cnet/2023/02/27/54453316/657614371_g.jpg\\\",\\\"https://a.ccdn.es/cnet/2023/02/27/54453316/657614376_g.jpg\\\",\\\"https://a.ccdn.es/cnet/2023/02/27/54453316/657614381_g.jpg\\\",\\\"https://a.ccdn.es/cnet/2023/02/27/54453316/657614386_g.jpg\\\",\\\"https://a.ccdn.es/cnet/2023/02/27/54453316/657614388_g.jpg\\\",\\\"https://a.ccdn.es/cnet/2023/02/27/54453316/657614391_g.jpg\\\",\\\"https://a.ccdn.es/cnet/2023/02/27/54453316/657614392_g.jpg\\\",\\\"https://a.ccdn.es/cnet/2023/02/27/54453316/657614393_g.jpg\\\",\\\"https://a.ccdn.es/cnet/2023/02/27/54453316/657614395_g.jpg\\\",\\\"https://a.ccdn.es/cnet/2023/02/27/54453316/657614398_g.jpg\\\",\\\"https://a.ccdn.es/cnet/2023/02/27/54453316/657614401_g.jpg\\\",\\\"https://a.ccdn.es/cnet/2023/02/27/54453316/657614403_g.jpg\\\",\\\"https://a.ccdn.es/cnet/2023/02/27/54453316/657614405_g.jpg\\\",\\\"https://a.ccdn.es/cnet/2023/02/27/54453316/657614407_g.jpg\\\",\\\"https://a.ccdn.es/cnet/2023/02/27/54453316/657614408_g.jpg\\\",\\\"https://a.ccdn.es/cnet/2023/02/27/54453316/657614410_g.jpg\\\",\\\"https://a.ccdn.es/cnet/2023/02/27/54453316/657614412_g.jpg\\\",\\\"https://a.ccdn.es/cnet/2023/02/27/54453316/657614415_g.jpg\\\",\\\"https://a.ccdn.es/cnet/2023/02/27/54453316/657614419_g.jpg\\\",\\\"https://a.ccdn.es/cnet/2023/02/27/54453316/657614418_g.jpg\\\",\\\"https://a.ccdn.es/cnet/2023/02/27/54453316/652544245_g.jpg\\\",\\\"https://a.ccdn.es/cnet/2023/02/27/54453316/657614421_g.jpg\\\",\\\"…\n",
      "None\n"
     ]
    },
    {
     "ename": "AttributeError",
     "evalue": "'NoneType' object has no attribute 'group'",
     "output_type": "error",
     "traceback": [
      "\u001b[1;31m---------------------------------------------------------------------------\u001b[0m",
      "\u001b[1;31mAttributeError\u001b[0m                            Traceback (most recent call last)",
      "Cell \u001b[1;32mIn[57], line 6\u001b[0m\n\u001b[0;32m      3\u001b[0m match \u001b[39m=\u001b[39m re\u001b[39m.\u001b[39msearch(\u001b[39mr\u001b[39m\u001b[39m'\u001b[39m\u001b[39mJSON.parse\u001b[39m\u001b[39m\\\u001b[39m\u001b[39m(\u001b[39m\u001b[39m\"\u001b[39m\u001b[39m(.*?)\u001b[39m\u001b[39m\"\u001b[39m\u001b[39m\\\u001b[39m\u001b[39m);\u001b[39m\u001b[39m'\u001b[39m, script_content)\n\u001b[0;32m      4\u001b[0m \u001b[39mprint\u001b[39m(match)\n\u001b[1;32m----> 6\u001b[0m json_string \u001b[39m=\u001b[39m match\u001b[39m.\u001b[39;49mgroup(\u001b[39m1\u001b[39m)\n\u001b[0;32m      7\u001b[0m json_string \u001b[39m=\u001b[39m re\u001b[39m.\u001b[39msub(\u001b[39mr\u001b[39m\u001b[39m'\u001b[39m\u001b[39m\\\\\u001b[39;00m\u001b[39m([\u001b[39m\u001b[39m\\\\\u001b[39;00m\u001b[39m\"\u001b[39m\u001b[39m])\u001b[39m\u001b[39m'\u001b[39m, \u001b[39mr\u001b[39m\u001b[39m'\u001b[39m\u001b[39m\\\u001b[39m\u001b[39m1\u001b[39m\u001b[39m'\u001b[39m, json_string) \u001b[39m# eliminar las barras invertidas escapadas\u001b[39;00m\n\u001b[0;32m      8\u001b[0m json_string \u001b[39m=\u001b[39m json_string\u001b[39m.\u001b[39mreplace(\u001b[39m'\u001b[39m\u001b[39m\\r\u001b[39;00m\u001b[39m'\u001b[39m, \u001b[39m'\u001b[39m\u001b[39m'\u001b[39m) \u001b[39m# eliminar los caracteres \"\\r\"\u001b[39;00m\n",
      "\u001b[1;31mAttributeError\u001b[0m: 'NoneType' object has no attribute 'group'"
     ]
    }
   ],
   "source": [
    "# extraer la cadena JSON del texto plano\n",
    "print(script_content)\n",
    "match = re.search(r'JSON.parse\\(\"(.*?)\"\\);', script_content)\n",
    "print(match)\n",
    "\n",
    "json_string = match.group(1)\n",
    "json_string = re.sub(r'\\\\([\\\\\"])', r'\\1', json_string) # eliminar las barras invertidas escapadas\n",
    "json_string = json_string.replace('\\r', '') # eliminar los caracteres \"\\r\"\n",
    "print(json_string)\n",
    "\n",
    "# analizar la cadena JSON\n",
    "json_data = json.loads(json_string)\n",
    "\n",
    "# crear un DataFrame a partir de los datos analizados\n",
    "# df = pd.json_normalize(json_data)"
   ]
  },
  {
   "cell_type": "code",
   "execution_count": 52,
   "metadata": {},
   "outputs": [
    {
     "name": "stdout",
     "output_type": "stream",
     "text": [
      "No se encontró una cadena JSON en el script.\n"
     ]
    }
   ],
   "source": [
    "match = re.search(r'JSON.parse\\(\"(.*?)\"\\);', script_content)\n",
    "\n",
    "if match:\n",
    "    json_string = match.group(1)\n",
    "    json_string = re.sub(r'\\\\([\\\\\"])', r'\\1', json_string) # eliminar las barras invertidas escapadas\n",
    "    json_string = json_string.replace('\\r', '') # eliminar los caracteres \"\\r\"\n",
    "    print(json_string)\n",
    "\n",
    "    # analizar la cadena JSON\n",
    "    json_data = json.loads(json_string)\n",
    "else:\n",
    "    print(\"No se encontró una cadena JSON en el script.\")\n"
   ]
  },
  {
   "cell_type": "code",
   "execution_count": null,
   "metadata": {},
   "outputs": [],
   "source": [
    "driver = get_driver()\n",
    "driver2 = get_driver()\n",
    "links = get_links(driver, 'https://www.coches.net/segunda-mano/')\n",
    "cars = get_cars(driver2, links)\n",
    "links = get_links(driver, 'https://www.coches.net/segunda-mano/?pg=2')\n",
    "cars = get_cars(driver2, links)"
   ]
  },
  {
   "cell_type": "code",
   "execution_count": null,
   "metadata": {},
   "outputs": [],
   "source": [
    "def get_car(driver, url):\n",
    "    car = {}\n",
    "    actions = ActionChains(driver)\n",
    "    driver.get(url)\n",
    "    time.sleep(random.uniform(0.5, 1.5))\n",
    "    try:\n",
    "        button = driver.find_element(by=By.XPATH, value='/html/body/div[1]/div/div[2]/div/div[3]/div/div/div/footer/div/button[2]')\n",
    "        actions.move_to_element(button).perform()\n",
    "        button.click()\n",
    "        time.sleep(random.uniform(0.8, 1.2))\n",
    "    except:\n",
    "        pass\n",
    "    car['url'] = url\n",
    "    car['datetime'] = datetime.now()\n",
    "    #-----------------------------------------------------\n",
    "    car['resto_de_datos'] = get_resto_de_datos_del_coche()\n",
    "    #-----------------------------------------------------\n",
    "    try:\n",
    "        actions.move_by_offset(random.uniform(-20, 20), random.uniform(-100, 100))\n",
    "    except:\n",
    "        pass\n",
    "    time.sleep(random.uniform(1.8, 3.2))\n",
    "    return car"
   ]
  },
  {
   "cell_type": "code",
   "execution_count": null,
   "metadata": {},
   "outputs": [],
   "source": [
    "def get_links(driver, url):\n",
    "    actions = ActionChains(driver)\n",
    "    driver.get(url)\n",
    "    time.sleep(random.uniform(0.5, 1.5))\n",
    "    try:\n",
    "        button = driver.find_element(by=By.XPATH, value='/html/body/div/div/div[2]/div/div[2]/div/div/div/footer/div/button[2]')\n",
    "        actions.move_to_element(button).perform()\n",
    "        button.click()\n",
    "        time.sleep(random.uniform(0.8, 1.2))\n",
    "    except:\n",
    "        pass\n",
    "    increment = 100\n",
    "    position = 0\n",
    "    while True:\n",
    "        driver.execute_script(\"window.scrollTo(0, \" + str(increment) + \");\")\n",
    "        elements = ...\n",
    "        time.sleep(random.uniform(0.2, 0.8))\n",
    "        links = [element.get_attribute('href') for element in elements]\n",
    "        if position == 0:\n",
    "            try:\n",
    "                actions.move_to_element(elements[0]).perform()\n",
    "            except:\n",
    "                pass\n",
    "            position += 1\n",
    "        else:\n",
    "            try:\n",
    "                actions.move_by_offset(random.uniform(-20, 20), random.uniform(-100, 200))\n",
    "            except:\n",
    "                pass\n",
    "        increment += 300\n",
    "        if len(elements) >= 30 or increment >= 10000:\n",
    "            break\n",
    "    links = [element.get_attribute('href') for element in elements]\n",
    "    display(len(links))\n",
    "    display(links)\n",
    "    return links"
   ]
  }
 ],
 "metadata": {
  "kernelspec": {
   "display_name": "venv",
   "language": "python",
   "name": "python3"
  },
  "language_info": {
   "codemirror_mode": {
    "name": "ipython",
    "version": 3
   },
   "file_extension": ".py",
   "mimetype": "text/x-python",
   "name": "python",
   "nbconvert_exporter": "python",
   "pygments_lexer": "ipython3",
   "version": "3.11.1"
  },
  "orig_nbformat": 4
 },
 "nbformat": 4,
 "nbformat_minor": 2
}
