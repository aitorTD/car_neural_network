{
 "cells": [
  {
   "attachments": {},
   "cell_type": "markdown",
   "metadata": {},
   "source": [
    "## Información"
   ]
  },
  {
   "cell_type": "code",
   "execution_count": 69,
   "metadata": {},
   "outputs": [],
   "source": [
    "# seat 839 Aitor --------------- https://www.coches.net/segunda-mano/?MakeId=39&MinPrice=4000&MinYear=2012&MaxYear=2022&MinKms=10000&MaxKms=180000\n",
    "# skoda 214 Aitor --------------- https://www.coches.net/segunda-mano/?MakeId=40&MinPrice=4000&MinYear=2012&MaxYear=2022&MinKms=10000&MaxKms=180000"
   ]
  },
  {
   "attachments": {},
   "cell_type": "markdown",
   "metadata": {},
   "source": [
    "## Librerías"
   ]
  },
  {
   "cell_type": "code",
   "execution_count": 70,
   "metadata": {},
   "outputs": [],
   "source": [
    "# %pip install undetected-chromedriver"
   ]
  },
  {
   "cell_type": "code",
   "execution_count": 71,
   "metadata": {},
   "outputs": [],
   "source": [
    "# %pip install pandas"
   ]
  },
  {
   "cell_type": "code",
   "execution_count": 72,
   "metadata": {},
   "outputs": [],
   "source": [
    "import ssl\n",
    "ssl._create_default_https_context = ssl._create_unverified_context\n",
    "\n",
    "from selenium.webdriver import ActionChains\n",
    "from selenium.webdriver.common.by import By\n",
    "import random\n",
    "import time\n",
    "import undetected_chromedriver as uc\n",
    "from selenium import webdriver\n",
    "import re\n",
    "import json\n",
    "from datetime import datetime"
   ]
  },
  {
   "attachments": {},
   "cell_type": "markdown",
   "metadata": {},
   "source": [
    "## Código"
   ]
  },
  {
   "cell_type": "code",
   "execution_count": 73,
   "metadata": {},
   "outputs": [],
   "source": [
    "def get_driver():\n",
    "  options = webdriver.ChromeOptions()\n",
    "  options.add_argument('--user-agent=Mozilla/5.0 (Windows NT 10.0; Win64; x64) AppleWebKit/537.36 (KHTML, like Gecko) Chrome/94.0.4606.61 Safari/537.36')\n",
    "  options.add_argument(\"--incognito\")\n",
    "  driver = uc.Chrome(options = options)\n",
    "  driver.set_page_load_timeout(60)\n",
    "  driver.set_window_size(1366, 768)\n",
    "  driver.set_window_position(0, 0)\n",
    "  driver.delete_all_cookies()\n",
    "  driver.execute_script(\"localStorage.clear();\")\n",
    "  driver.execute_script(\"sessionStorage.clear();\")\n",
    "  driver.execute_script(\"history.go(0);\")\n",
    "  driver.execute_cdp_cmd('Page.addScriptToEvaluateOnNewDocument', {\n",
    "    'source': 'Object.defineProperty(navigator, \"webdriver\", {get: () => undefined})'\n",
    "  })\n",
    "  return driver"
   ]
  },
  {
   "cell_type": "code",
   "execution_count": 74,
   "metadata": {},
   "outputs": [],
   "source": [
    "def try_get_all_car_info():\n",
    "    while True:\n",
    "        try:\n",
    "            processed_json = get_all_car_info()\n",
    "            return processed_json\n",
    "        except:\n",
    "            print(\"La función get_all_car_info() falló. Esperando 5 segundos antes de volver a intentarlo...\")\n",
    "            time.sleep(5)"
   ]
  },
  {
   "cell_type": "code",
   "execution_count": 75,
   "metadata": {},
   "outputs": [],
   "source": [
    "def get_all_car_info():\n",
    "  # Busca todas las etiquetas 'script' dentro del 'body'\n",
    "  script_tags = driver.find_elements(By.XPATH, \"//body//script\")\n",
    "  script_content = \"\"\n",
    "\n",
    "  for tag in script_tags:\n",
    "      script = tag.get_attribute(\"innerHTML\")\n",
    "      if '__INITIAL_PROPS__' in script:\n",
    "          script_content = script\n",
    "          break\n",
    "  # extraer la cadena JSON del texto plano\n",
    "  match = re.search(r'JSON.parse\\(\"(.*?)\"\\);', script_content)\n",
    "\n",
    "  json_string = match.group(1)\n",
    "  json_string = re.sub(r'\\\\([\\\\\"])', r'\\1', json_string) # eliminar las barras invertidas escapadas\n",
    "  json_string = json_string.replace('\\r', '') # eliminar los caracteres \"\\r\"\n",
    "\n",
    "  # analizar la cadena JSON\n",
    "  json_data = json.loads(json_string)\n",
    "\n",
    "  # Procesar json\n",
    "  keys_to_extract = [\n",
    "      \"color\", \"fuelTypeId\", \"fuelType\", \"id\", \"km\", \"make\", \"makeId\", \"model\", \"modelId\", \"price\", \"province\",\n",
    "      \"provinceId\", \"title\", \"transmissionType\", \"transmissionTypeId\", \"year\"\n",
    "  ]\n",
    "  \n",
    "  processed_json = {key: json_data[\"ad\"].get(key) for key in keys_to_extract}\n",
    "  processed_json.update({key: json_data[\"leadData\"].get(key) for key in [\"brand\", \"brand_id\", \"fuel_types\", \"model_id\", \"seller_type\"]})\n",
    "  processed_json.update({key: json_data[\"vehicleInfo\"][\"specifications\"].get(key) for key in [\"bodyType\", \"cubicCapacity\", \"doors\", \"hp\"]})\n",
    "  processed_json[\"url\"] = 'https://www.coches.net' + json_data[\"ad\"][\"url\"]\n",
    "\n",
    "  return processed_json"
   ]
  },
  {
   "cell_type": "code",
   "execution_count": 76,
   "metadata": {},
   "outputs": [],
   "source": [
    "def get_links(driver, url):\n",
    "    actions = ActionChains(driver)\n",
    "    driver.get(url)\n",
    "    time.sleep(random.uniform(1, 2))\n",
    "    try:\n",
    "        button = driver.find_element(by=By.XPATH, value='/html/body/div/div/div[2]/div/div[2]/div/div/div/footer/div/button[2]')\n",
    "        actions.move_to_element(button).perform()\n",
    "        button.click()\n",
    "        time.sleep(random.uniform(1.2, 1.8))\n",
    "    except:\n",
    "        pass\n",
    "    increment = 100\n",
    "    position = 0\n",
    "    while True:\n",
    "        driver.execute_script(\"window.scrollTo(0, \" + str(increment) + \");\")\n",
    "        elements = driver.find_elements(By.CSS_SELECTOR, \".mt-CardBasic-titleLink\")\n",
    "        time.sleep(random.uniform(0.6, 1.4))\n",
    "        links = [element.get_attribute('href') for element in elements]\n",
    "        if position == 0:\n",
    "            try:\n",
    "                actions.move_to_element(elements[0]).perform()\n",
    "            except:\n",
    "                pass\n",
    "            position += 1\n",
    "        else:\n",
    "            try:\n",
    "                actions.move_by_offset(random.uniform(-80, 80), random.uniform(-200, 200))\n",
    "            except:\n",
    "                pass\n",
    "        increment += 300\n",
    "        if len(elements) >= 30 or increment >= 10000:\n",
    "            break\n",
    "    links = [element.get_attribute('href') for element in elements]\n",
    "    return links"
   ]
  },
  {
   "cell_type": "code",
   "execution_count": 77,
   "metadata": {},
   "outputs": [],
   "source": [
    "def get_car(driver, url):\n",
    "    car = {}\n",
    "    actions = ActionChains(driver)\n",
    "    driver.get(url)\n",
    "    time.sleep(random.uniform(1, 1.5))\n",
    "    try:\n",
    "        button = driver.find_element(by=By.XPATH, value='/html/body/div[1]/div/div[2]/div/div[3]/div/div/div/footer/div/button[2]')\n",
    "        actions.move_to_element(button).perform()\n",
    "        button.click()\n",
    "        time.sleep(random.uniform(1.2, 1.8))\n",
    "    except:\n",
    "        pass\n",
    "    car['url'] = url\n",
    "    car['datetime'] = datetime.now()\n",
    "    car['datetime'] = car[\"datetime\"].strftime('%Y-%m-%d %H:%M:%S')\n",
    "    #-----------------------------------------------------\n",
    "    car['resto_de_datos'] = try_get_all_car_info()\n",
    "    #-----------------------------------------------------\n",
    "    try:\n",
    "        actions.move_by_offset(random.uniform(-60, 60), random.uniform(-200, 200))\n",
    "    except:\n",
    "        pass\n",
    "    time.sleep(random.uniform(2, 4))\n",
    "    return car"
   ]
  },
  {
   "cell_type": "code",
   "execution_count": 78,
   "metadata": {},
   "outputs": [],
   "source": [
    "def get_cars(driver, urls):\n",
    "    cars = []\n",
    "    for url in urls:\n",
    "        if url != None:\n",
    "            car = get_car(driver, url)\n",
    "            cars.append(car)\n",
    "    return cars\n"
   ]
  },
  {
   "cell_type": "code",
   "execution_count": 79,
   "metadata": {},
   "outputs": [],
   "source": [
    "brands_and_pages = [\n",
    "    {\n",
    "        \"makeId\": 39,\n",
    "        \"init_page\": 11,\n",
    "        \"pages\": 30\n",
    "    },\n",
    "    {\n",
    "        \"makeId\": 40,\n",
    "        \"init_page\": 1,\n",
    "        \"pages\": 8\n",
    "    },\n",
    "]\n",
    "nombre_archivo = 'datos.json'"
   ]
  },
  {
   "cell_type": "code",
   "execution_count": 80,
   "metadata": {},
   "outputs": [],
   "source": [
    "def build_link(make_id, page):\n",
    "    return f'https://www.coches.net/segunda-mano/?MinPrice=4000&MinYear=2012&MaxYear=2022&MinKms=10000&MaxKms=180000&MakeId={make_id}&pg={page}'"
   ]
  },
  {
   "cell_type": "code",
   "execution_count": 81,
   "metadata": {},
   "outputs": [
    {
     "name": "stdout",
     "output_type": "stream",
     "text": [
      "La función get_all_car_info() falló. Esperando 5 segundos antes de volver a intentarlo...\n",
      "La función get_all_car_info() falló. Esperando 5 segundos antes de volver a intentarlo...\n",
      "La función get_all_car_info() falló. Esperando 5 segundos antes de volver a intentarlo...\n",
      "La función get_all_car_info() falló. Esperando 5 segundos antes de volver a intentarlo...\n",
      "La función get_all_car_info() falló. Esperando 5 segundos antes de volver a intentarlo...\n",
      "La función get_all_car_info() falló. Esperando 5 segundos antes de volver a intentarlo...\n",
      "La función get_all_car_info() falló. Esperando 5 segundos antes de volver a intentarlo...\n",
      "La función get_all_car_info() falló. Esperando 5 segundos antes de volver a intentarlo...\n",
      "La función get_all_car_info() falló. Esperando 5 segundos antes de volver a intentarlo...\n",
      "La función get_all_car_info() falló. Esperando 5 segundos antes de volver a intentarlo...\n",
      "La función get_all_car_info() falló. Esperando 5 segundos antes de volver a intentarlo...\n",
      "La función get_all_car_info() falló. Esperando 5 segundos antes de volver a intentarlo...\n",
      "La función get_all_car_info() falló. Esperando 5 segundos antes de volver a intentarlo...\n",
      "La función get_all_car_info() falló. Esperando 5 segundos antes de volver a intentarlo...\n",
      "La función get_all_car_info() falló. Esperando 5 segundos antes de volver a intentarlo...\n",
      "La función get_all_car_info() falló. Esperando 5 segundos antes de volver a intentarlo...\n",
      "La función get_all_car_info() falló. Esperando 5 segundos antes de volver a intentarlo...\n",
      "La función get_all_car_info() falló. Esperando 5 segundos antes de volver a intentarlo...\n",
      "La función get_all_car_info() falló. Esperando 5 segundos antes de volver a intentarlo...\n",
      "La función get_all_car_info() falló. Esperando 5 segundos antes de volver a intentarlo...\n",
      "La función get_all_car_info() falló. Esperando 5 segundos antes de volver a intentarlo...\n",
      "La función get_all_car_info() falló. Esperando 5 segundos antes de volver a intentarlo...\n",
      "La función get_all_car_info() falló. Esperando 5 segundos antes de volver a intentarlo...\n"
     ]
    }
   ],
   "source": [
    "driver = get_driver()\n",
    "cars = []\n",
    "\n",
    "with open(nombre_archivo, 'r') as archivo_json:\n",
    "    cars = json.load(archivo_json)\n",
    "\n",
    "for bran_page in brands_and_pages:\n",
    "    for page in range(bran_page[\"init_page\"], bran_page[\"pages\"] + 1):\n",
    "        print(page)\n",
    "        links = get_links(driver, build_link(bran_page[\"makeId\"], page))\n",
    "        for i in range(len(links)):\n",
    "            if links[i] is not None:\n",
    "                links[i] = links[i].replace(\"#\", \"\")\n",
    "\n",
    "        cars_info = get_cars(driver, links)\n",
    "        cars.extend(cars_info)\n",
    "\n",
    "        # Escribir la lista en el archivo JSON\n",
    "        with open(nombre_archivo, 'w') as archivo_json:\n",
    "            json.dump(cars, archivo_json)"
   ]
  }
 ],
 "metadata": {
  "kernelspec": {
   "display_name": "venv311",
   "language": "python",
   "name": "python3"
  },
  "language_info": {
   "codemirror_mode": {
    "name": "ipython",
    "version": 3
   },
   "file_extension": ".py",
   "mimetype": "text/x-python",
   "name": "python",
   "nbconvert_exporter": "python",
   "pygments_lexer": "ipython3",
   "version": "3.11.1"
  },
  "orig_nbformat": 4
 },
 "nbformat": 4,
 "nbformat_minor": 2
}
