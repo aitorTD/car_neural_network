{
 "cells": [
  {
   "attachments": {},
   "cell_type": "markdown",
   "metadata": {},
   "source": [
    "## Librerías"
   ]
  },
  {
   "cell_type": "code",
   "execution_count": null,
   "metadata": {},
   "outputs": [],
   "source": [
    "# %pip install pandas"
   ]
  },
  {
   "cell_type": "code",
   "execution_count": 1,
   "metadata": {},
   "outputs": [],
   "source": [
    "import json\n",
    "import pandas as pd"
   ]
  },
  {
   "attachments": {},
   "cell_type": "markdown",
   "metadata": {},
   "source": [
    "## Código"
   ]
  },
  {
   "attachments": {},
   "cell_type": "markdown",
   "metadata": {},
   "source": [
    "Borramos los dos primeros registros del archivo .json proporcionado por Adrián, ya que no eran datos de coches."
   ]
  },
  {
   "cell_type": "code",
   "execution_count": null,
   "metadata": {},
   "outputs": [],
   "source": [
    "# Leer el archivo JSON\n",
    "with open('datos_coches/datosAdrian.json') as f:\n",
    "    data = json.load(f)\n",
    "\n",
    "# Eliminar los dos primeros registros\n",
    "data.pop(0)\n",
    "data.pop(0)\n",
    "\n",
    "# Escribir el objeto JSON actualizado en el archivo JSON original\n",
    "with open('datos_coches/datosAdrian.json', 'w') as f:\n",
    "    json.dump(data, f)\n",
    "\n",
    "\n",
    "# Leer el archivo JSON\n",
    "with open('datos_coches/datosAdrian.json') as f:\n",
    "    data = json.load(f)\n",
    "\n",
    "# Imprimir el contenido del archivo JSON actualizado\n",
    "# print(json.dumps(data, indent=2))\n"
   ]
  },
  {
   "attachments": {},
   "cell_type": "markdown",
   "metadata": {},
   "source": [
    "De los 9 archivos .json, 8 siguen la misma estructura en cada coche, vamos a cambiar la estructura del archivo diferente para hacerlo igual a los demás y poder tratarlo en conjunto con los demás."
   ]
  },
  {
   "cell_type": "code",
   "execution_count": 3,
   "metadata": {},
   "outputs": [],
   "source": [
    "with open('datos_coches/datos_formateados.json', 'r') as f:\n",
    "    data = json.load(f)"
   ]
  },
  {
   "cell_type": "code",
   "execution_count": null,
   "metadata": {},
   "outputs": [],
   "source": [
    "# Creamos una lista vacía para guardar los registros formateados\n",
    "new_data = []\n",
    "\n",
    "# Iteramos sobre cada registro\n",
    "for registro in data:\n",
    "    # Creamos un nuevo diccionario con el formato deseado\n",
    "    nuevo_registro = {\n",
    "        \"url\": registro[\"url\"],\n",
    "        \"datetime\": registro[\"datetime\"],\n",
    "        \"resto_de_datos\": {\n",
    "            \"color\": registro[\"color\"],\n",
    "            \"fuelTypeId\": registro[\"fuelTypeId\"],\n",
    "            \"fuelType\": registro[\"fuelType\"],\n",
    "            \"id\": registro[\"id\"],\n",
    "            \"km\": registro[\"km\"],\n",
    "            \"make\": registro[\"make\"],\n",
    "            \"makeId\": registro[\"makeId\"],\n",
    "            \"model\": registro[\"model\"],\n",
    "            \"modelId\": registro[\"modelId\"],\n",
    "            \"price\": registro[\"price\"],\n",
    "            \"province\": registro[\"province\"],\n",
    "            \"provinceId\": registro[\"provinceId\"],\n",
    "            \"title\": registro[\"title\"],\n",
    "            \"transmissionType\": registro[\"transmissionType\"],\n",
    "            \"transmissionTypeId\": registro[\"transmissionTypeId\"],\n",
    "            \"year\": registro[\"year\"],\n",
    "            \"brand\": registro[\"brand\"],\n",
    "            \"brand_id\": registro[\"brand_id\"],\n",
    "            \"fuel_types\": registro[\"fuel_types\"],\n",
    "            \"model_id\": registro[\"model_id\"],\n",
    "            \"seller_type\": registro[\"seller_type\"],\n",
    "            \"bodyType\": registro[\"bodyType\"],\n",
    "            \"cubicCapacity\": registro[\"cubicCapacity\"],\n",
    "            \"doors\": registro[\"doors\"],\n",
    "            \"hp\": registro[\"hp\"],\n",
    "            \"url\": registro[\"url\"]\n",
    "        }\n",
    "    }\n",
    "    \n",
    "    # Agregamos el nuevo registro a la lista de registros formateados\n",
    "    new_data.append(nuevo_registro)"
   ]
  },
  {
   "cell_type": "code",
   "execution_count": null,
   "metadata": {},
   "outputs": [],
   "source": [
    "# Escribimos los nuevos datos formateados en el archivo\n",
    "with open('datos_coches/datos_formateados.json', 'w') as f:\n",
    "    json.dump(new_data, f, indent=4)"
   ]
  },
  {
   "cell_type": "code",
   "execution_count": 11,
   "metadata": {},
   "outputs": [],
   "source": [
    "data = []\n",
    "\n",
    "for filename in [\"datos_coches/datosAdrian.json\", \"datos_coches/datosAitor.json\", \"datos_coches/datosAlberto.json\", \"datos_coches/datosDani.json\", \"datos_coches/datosEmilio.json\", \"datos_coches/datosJuanpe.json\", \"datos_coches/datosMateo.json\", \"datos_coches/datosSergio.json\", \"datos_coches/datosSergioLapaz.json\", \"datos_coches/datosSteven.json\"]:\n",
    "    with open(filename, \"r\", encoding=\"utf-8\") as f:\n",
    "        data += json.load(f)\n",
    "\n",
    "for i, item in enumerate(data):\n",
    "      if 'resto_de_datos' in item:\n",
    "        resto_de_datos = item.pop('resto_de_datos')\n",
    "        data[i] = {**item, **resto_de_datos}\n",
    "\n",
    "with open(\"datos_coches/coches_TOTALES.json\", \"w\") as f:\n",
    "    json.dump(data, f)"
   ]
  },
  {
   "cell_type": "code",
   "execution_count": null,
   "metadata": {},
   "outputs": [],
   "source": [
    "# Cargar el archivo JSON en una variable\n",
    "with open('datos_coches/coches_TOTALES.json') as f:\n",
    "    data = json.load(f)\n",
    "\n",
    "# Convertir los datos en un DataFrame\n",
    "df = pd.json_normalize(data)\n",
    "\n",
    "# Obtener las estadísticas descriptivas del DataFrame\n",
    "print(df.describe())"
   ]
  },
  {
   "cell_type": "code",
   "execution_count": null,
   "metadata": {},
   "outputs": [],
   "source": [
    "# import json\n",
    "\n",
    "# with open('datos_coches/coches_TOTALES.json', 'r') as f:\n",
    "#     data = json.load(f)\n",
    "\n",
    "# ids = set()\n",
    "# duplicates = []\n",
    "\n",
    "# for record in data:\n",
    "#     if record['id'] in ids:\n",
    "#         duplicates.append(record['id'])\n",
    "#     ids.add(record['id'])\n",
    "\n",
    "# for duplicate_id in duplicates:\n",
    "#     print(f\"Duplicates found for id {duplicate_id}\")"
   ]
  },
  {
   "cell_type": "code",
   "execution_count": 14,
   "metadata": {},
   "outputs": [],
   "source": [
    "# # Abrir archivo JSON\n",
    "# with open('datos_coches/coches_TOTALES.json', 'r') as f:\n",
    "#     data = json.load(f)\n",
    "\n",
    "# # Comprobar que el \"id\" no se repite en ningún registro\n",
    "# unique_ids = set()\n",
    "# duplicates = set()\n",
    "# for record in data:\n",
    "#     if record['id'] in unique_ids:\n",
    "#         duplicates.add(record['id'])\n",
    "#     else:\n",
    "#         unique_ids.add(record['id'])\n",
    "\n",
    "# # Si hay ids duplicados, eliminar los registros duplicados hasta que quede solo uno\n",
    "# if duplicates:\n",
    "#     new_data = []\n",
    "#     for record in data:\n",
    "#         if record['id'] not in duplicates:\n",
    "#             new_data.append(record)\n",
    "#         else:\n",
    "#             duplicates.remove(record['id'])\n",
    "#     data = new_data\n",
    "\n",
    "# # Guardar el archivo JSON actualizado\n",
    "# with open('datos_actualizados.json', 'w') as f:\n",
    "#     json.dump(data, f, indent=4)"
   ]
  },
  {
   "cell_type": "code",
   "execution_count": 17,
   "metadata": {},
   "outputs": [],
   "source": [
    "# Carga los datos del archivo json en una lista\n",
    "with open(\"datos_coches/coches_TOTALES.json\", \"r\") as f:\n",
    "    data = json.load(f)\n",
    "\n",
    "# Crea un conjunto para almacenar los ids duplicados\n",
    "duplicates = set()\n",
    "\n",
    "# Crea un diccionario para almacenar los registros únicos\n",
    "unique_records = {}\n",
    "\n",
    "# Recorre cada registro en la lista de datos\n",
    "for record in data:\n",
    "    # Extrae el id del registro y comprueba si ya existe en el diccionario de registros únicos\n",
    "    id = record[\"id\"]\n",
    "    if id in unique_records:\n",
    "        # Si ya existe, añade el id a la lista de duplicados\n",
    "        duplicates.add(id)\n",
    "    else:\n",
    "        # Si no existe, añade el registro al diccionario de registros únicos\n",
    "        unique_records[id] = record\n",
    "\n",
    "# Muestra los ids duplicados\n",
    "# print(\"Ids duplicados:\", duplicates)\n",
    "\n",
    "# Convierte los registros únicos de nuevo en una lista\n",
    "unique_data = list(unique_records.values())\n",
    "\n",
    "# Guarda los registros únicos en un nuevo archivo json\n",
    "with open(\"archivo_sin_duplicados.json\", \"w\") as f:\n",
    "    json.dump(unique_data, f)"
   ]
  },
  {
   "cell_type": "code",
   "execution_count": 2,
   "metadata": {},
   "outputs": [
    {
     "name": "stdout",
     "output_type": "stream",
     "text": [
      "         fuelTypeId             km        makeId       modelId          price   \n",
      "count  11201.000000   11201.000000  11201.000000  11191.000000   11201.000000  \\\n",
      "mean       1.702794   73150.747165     69.907955    708.149674   23905.982234   \n",
      "std        0.987493   42063.033230    218.469664    433.154711   18610.883475   \n",
      "min        1.000000   10000.000000      1.000000      2.000000    4000.000000   \n",
      "25%        1.000000   38520.000000     15.000000    350.000000   14999.000000   \n",
      "50%        1.000000   68000.000000     28.000000    678.000000   19990.000000   \n",
      "75%        2.000000  100000.000000     35.000000   1118.000000   26900.000000   \n",
      "max        7.000000  180000.000000   1400.000000   1442.000000  450000.000000   \n",
      "\n",
      "         provinceId  transmissionTypeId          year     brand_id   \n",
      "count  11201.000000        11198.000000  11201.000000  9193.000000  \\\n",
      "mean      26.987055            1.621182   2018.182841    81.490591   \n",
      "std       13.773970            0.485114      2.356745   239.551985   \n",
      "min        1.000000            1.000000   2012.000000     1.000000   \n",
      "25%       14.000000            1.000000   2017.000000    21.000000   \n",
      "50%       28.000000            2.000000   2018.000000    32.000000   \n",
      "75%       38.000000            2.000000   2020.000000    35.000000   \n",
      "max       52.000000            2.000000   2022.000000  1400.000000   \n",
      "\n",
      "          model_id  cubicCapacity         doors            hp   Unnamed: 0   \n",
      "count  9185.000000   10840.000000  11191.000000  10976.000000  2009.000000  \\\n",
      "mean    692.425912    1680.130258      4.768028    145.597030  1006.034843   \n",
      "std     440.870901     549.977335      0.651787     70.816168   581.675598   \n",
      "min       2.000000     647.000000      2.000000     60.000000     0.000000   \n",
      "25%     275.000000    1368.000000      5.000000    110.000000   502.000000   \n",
      "50%     628.000000    1560.000000      5.000000    130.000000  1006.000000   \n",
      "75%    1100.000000    1995.000000      5.000000    150.000000  1510.000000   \n",
      "max    1442.000000    6496.000000      5.000000    800.000000  2013.000000   \n",
      "\n",
      "       seller_type_id  body_types_id  \n",
      "count     2008.000000    1965.000000  \n",
      "mean         1.095120       4.040712  \n",
      "std          0.293453       2.296586  \n",
      "min          1.000000       1.000000  \n",
      "25%          1.000000       1.000000  \n",
      "50%          1.000000       6.000000  \n",
      "75%          1.000000       6.000000  \n",
      "max          2.000000       6.000000  \n"
     ]
    }
   ],
   "source": [
    "# Cargar el archivo JSON en una variable\n",
    "with open('archivo_sin_duplicados.json') as f:\n",
    "    data = json.load(f)\n",
    "\n",
    "# Convertir los datos en un DataFrame\n",
    "df = pd.json_normalize(data)\n",
    "\n",
    "# Obtener las estadísticas descriptivas del DataFrame\n",
    "print(df.describe())"
   ]
  },
  {
   "cell_type": "code",
   "execution_count": null,
   "metadata": {},
   "outputs": [],
   "source": []
  },
  {
   "cell_type": "code",
   "execution_count": null,
   "metadata": {},
   "outputs": [],
   "source": []
  },
  {
   "cell_type": "code",
   "execution_count": null,
   "metadata": {},
   "outputs": [],
   "source": []
  },
  {
   "attachments": {},
   "cell_type": "markdown",
   "metadata": {},
   "source": [
    "Vamos a pasar los archivos .csv a .json para poder unirlos al resto de datos"
   ]
  },
  {
   "cell_type": "code",
   "execution_count": null,
   "metadata": {},
   "outputs": [],
   "source": [
    "# Leer el archivo csv\n",
    "df = pd.read_csv('datos_coches/bmw_mazda.csv')\n",
    "\n",
    "# Convertir a json y guardar en un archivo\n",
    "df.to_json('datos_coches/bmw_mazda.json', orient='records')"
   ]
  },
  {
   "cell_type": "code",
   "execution_count": null,
   "metadata": {},
   "outputs": [],
   "source": [
    "with open('datos_coches/datosAdrian.json') as f:\n",
    "    data = json.load(f)\n",
    "\n",
    "# Imprimir el contenido del archivo JSON actualizado\n",
    "# print(json.dumps(data, indent=2))"
   ]
  },
  {
   "cell_type": "code",
   "execution_count": 2,
   "metadata": {},
   "outputs": [],
   "source": [
    "# Leer el archivo csv\n",
    "df = pd.read_csv('datos_coches/datosAdonais.csv')\n",
    "\n",
    "# Convertir a json y guardar en un archivo\n",
    "df.to_json('datos_coches/datosAdonais.json', orient='records')"
   ]
  },
  {
   "cell_type": "code",
   "execution_count": 6,
   "metadata": {},
   "outputs": [
    {
     "ename": "TypeError",
     "evalue": "int() argument must be a string, a bytes-like object or a real number, not 'NoneType'",
     "output_type": "error",
     "traceback": [
      "\u001b[1;31m---------------------------------------------------------------------------\u001b[0m",
      "\u001b[1;31mTypeError\u001b[0m                                 Traceback (most recent call last)",
      "Cell \u001b[1;32mIn[6], line 18\u001b[0m\n\u001b[0;32m      8\u001b[0m \u001b[39m# Recorrer cada registro del archivo JSON y darle el nuevo formato\u001b[39;00m\n\u001b[0;32m      9\u001b[0m \u001b[39mfor\u001b[39;00m registro \u001b[39min\u001b[39;00m data:\n\u001b[0;32m     10\u001b[0m     new_registro \u001b[39m=\u001b[39m {\n\u001b[0;32m     11\u001b[0m         \u001b[39m\"\u001b[39m\u001b[39murl\u001b[39m\u001b[39m\"\u001b[39m: registro[\u001b[39m\"\u001b[39m\u001b[39murl\u001b[39m\u001b[39m\"\u001b[39m],\n\u001b[0;32m     12\u001b[0m         \u001b[39m\"\u001b[39m\u001b[39mdatetime\u001b[39m\u001b[39m\"\u001b[39m: registro[\u001b[39m\"\u001b[39m\u001b[39mdate\u001b[39m\u001b[39m\"\u001b[39m],\n\u001b[0;32m     13\u001b[0m         \u001b[39m\"\u001b[39m\u001b[39mresto_de_datos\u001b[39m\u001b[39m\"\u001b[39m: {\n\u001b[0;32m     14\u001b[0m             \u001b[39m\"\u001b[39m\u001b[39mcolor\u001b[39m\u001b[39m\"\u001b[39m: registro\u001b[39m.\u001b[39mget(\u001b[39m\"\u001b[39m\u001b[39mcolor\u001b[39m\u001b[39m\"\u001b[39m),\n\u001b[0;32m     15\u001b[0m             \u001b[39m\"\u001b[39m\u001b[39mfuelTypeId\u001b[39m\u001b[39m\"\u001b[39m: \u001b[39mint\u001b[39m(registro[\u001b[39m\"\u001b[39m\u001b[39mfuelTypeId\u001b[39m\u001b[39m\"\u001b[39m]) \u001b[39mif\u001b[39;00m registro[\u001b[39m\"\u001b[39m\u001b[39mfuelTypeId\u001b[39m\u001b[39m\"\u001b[39m] \u001b[39mis\u001b[39;00m \u001b[39mnot\u001b[39;00m \u001b[39mNone\u001b[39;00m \u001b[39melse\u001b[39;00m \u001b[39mNone\u001b[39;00m,\n\u001b[0;32m     16\u001b[0m             \u001b[39m\"\u001b[39m\u001b[39mfuelType\u001b[39m\u001b[39m\"\u001b[39m: registro[\u001b[39m\"\u001b[39m\u001b[39mfuelType\u001b[39m\u001b[39m\"\u001b[39m],\n\u001b[0;32m     17\u001b[0m             \u001b[39m\"\u001b[39m\u001b[39mid\u001b[39m\u001b[39m\"\u001b[39m: \u001b[39mstr\u001b[39m(\u001b[39mint\u001b[39m(registro[\u001b[39m\"\u001b[39m\u001b[39mid\u001b[39m\u001b[39m\"\u001b[39m])) \u001b[39mif\u001b[39;00m registro[\u001b[39m\"\u001b[39m\u001b[39mid\u001b[39m\u001b[39m\"\u001b[39m] \u001b[39mis\u001b[39;00m \u001b[39mnot\u001b[39;00m \u001b[39mNone\u001b[39;00m \u001b[39melse\u001b[39;00m \u001b[39mNone\u001b[39;00m,\n\u001b[1;32m---> 18\u001b[0m             \u001b[39m\"\u001b[39m\u001b[39mkm\u001b[39m\u001b[39m\"\u001b[39m: \u001b[39mint\u001b[39;49m(registro[\u001b[39m\"\u001b[39;49m\u001b[39mkm\u001b[39;49m\u001b[39m\"\u001b[39;49m]),\n\u001b[0;32m     19\u001b[0m             \u001b[39m\"\u001b[39m\u001b[39mmake\u001b[39m\u001b[39m\"\u001b[39m: registro[\u001b[39m\"\u001b[39m\u001b[39mmake\u001b[39m\u001b[39m\"\u001b[39m],\n\u001b[0;32m     20\u001b[0m             \u001b[39m\"\u001b[39m\u001b[39mmakeId\u001b[39m\u001b[39m\"\u001b[39m: \u001b[39mint\u001b[39m(registro[\u001b[39m\"\u001b[39m\u001b[39mmakeId\u001b[39m\u001b[39m\"\u001b[39m]) \u001b[39mif\u001b[39;00m registro[\u001b[39m\"\u001b[39m\u001b[39mmakeId\u001b[39m\u001b[39m\"\u001b[39m] \u001b[39mis\u001b[39;00m \u001b[39mnot\u001b[39;00m \u001b[39mNone\u001b[39;00m \u001b[39melse\u001b[39;00m \u001b[39mNone\u001b[39;00m,\n\u001b[0;32m     21\u001b[0m             \u001b[39m\"\u001b[39m\u001b[39mmodel\u001b[39m\u001b[39m\"\u001b[39m: registro[\u001b[39m\"\u001b[39m\u001b[39mmodel\u001b[39m\u001b[39m\"\u001b[39m],\n\u001b[0;32m     22\u001b[0m             \u001b[39m\"\u001b[39m\u001b[39mmodelId\u001b[39m\u001b[39m\"\u001b[39m: \u001b[39mint\u001b[39m(registro[\u001b[39m\"\u001b[39m\u001b[39mmodelId\u001b[39m\u001b[39m\"\u001b[39m]) \u001b[39mif\u001b[39;00m registro[\u001b[39m\"\u001b[39m\u001b[39mmodelId\u001b[39m\u001b[39m\"\u001b[39m] \u001b[39mis\u001b[39;00m \u001b[39mnot\u001b[39;00m \u001b[39mNone\u001b[39;00m \u001b[39melse\u001b[39;00m \u001b[39mNone\u001b[39;00m,\n\u001b[0;32m     23\u001b[0m             \u001b[39m\"\u001b[39m\u001b[39mprice\u001b[39m\u001b[39m\"\u001b[39m: \u001b[39mint\u001b[39m(registro[\u001b[39m\"\u001b[39m\u001b[39mprice\u001b[39m\u001b[39m\"\u001b[39m]),\n\u001b[0;32m     24\u001b[0m             \u001b[39m\"\u001b[39m\u001b[39mprovince\u001b[39m\u001b[39m\"\u001b[39m: registro[\u001b[39m\"\u001b[39m\u001b[39mprovince\u001b[39m\u001b[39m\"\u001b[39m],\n\u001b[0;32m     25\u001b[0m             \u001b[39m\"\u001b[39m\u001b[39mprovinceId\u001b[39m\u001b[39m\"\u001b[39m: \u001b[39mint\u001b[39m(registro[\u001b[39m\"\u001b[39m\u001b[39mprovinceId\u001b[39m\u001b[39m\"\u001b[39m]) \u001b[39mif\u001b[39;00m registro[\u001b[39m\"\u001b[39m\u001b[39mprovinceId\u001b[39m\u001b[39m\"\u001b[39m] \u001b[39mis\u001b[39;00m \u001b[39mnot\u001b[39;00m \u001b[39mNone\u001b[39;00m \u001b[39melse\u001b[39;00m \u001b[39mNone\u001b[39;00m,\n\u001b[0;32m     26\u001b[0m             \u001b[39m\"\u001b[39m\u001b[39mtitle\u001b[39m\u001b[39m\"\u001b[39m: registro[\u001b[39m\"\u001b[39m\u001b[39mtitle\u001b[39m\u001b[39m\"\u001b[39m],\n\u001b[0;32m     27\u001b[0m             \u001b[39m\"\u001b[39m\u001b[39mtransmissionType\u001b[39m\u001b[39m\"\u001b[39m: registro[\u001b[39m\"\u001b[39m\u001b[39mtransmissionType\u001b[39m\u001b[39m\"\u001b[39m],\n\u001b[0;32m     28\u001b[0m             \u001b[39m\"\u001b[39m\u001b[39mtransmissionTypeId\u001b[39m\u001b[39m\"\u001b[39m: \u001b[39mint\u001b[39m(registro[\u001b[39m\"\u001b[39m\u001b[39mtransmissionTypeId\u001b[39m\u001b[39m\"\u001b[39m]) \u001b[39mif\u001b[39;00m registro[\u001b[39m\"\u001b[39m\u001b[39mtransmissionTypeId\u001b[39m\u001b[39m\"\u001b[39m] \u001b[39mis\u001b[39;00m \u001b[39mnot\u001b[39;00m \u001b[39mNone\u001b[39;00m \u001b[39melse\u001b[39;00m \u001b[39mNone\u001b[39;00m,\n\u001b[0;32m     29\u001b[0m             \u001b[39m\"\u001b[39m\u001b[39myear\u001b[39m\u001b[39m\"\u001b[39m: \u001b[39mint\u001b[39m(registro[\u001b[39m\"\u001b[39m\u001b[39myear\u001b[39m\u001b[39m\"\u001b[39m]) \u001b[39mif\u001b[39;00m registro[\u001b[39m\"\u001b[39m\u001b[39myear\u001b[39m\u001b[39m\"\u001b[39m] \u001b[39mis\u001b[39;00m \u001b[39mnot\u001b[39;00m \u001b[39mNone\u001b[39;00m \u001b[39melse\u001b[39;00m \u001b[39mNone\u001b[39;00m,\n\u001b[0;32m     30\u001b[0m             \u001b[39m\"\u001b[39m\u001b[39mbrand\u001b[39m\u001b[39m\"\u001b[39m: registro[\u001b[39m\"\u001b[39m\u001b[39mmake\u001b[39m\u001b[39m\"\u001b[39m],\n\u001b[0;32m     31\u001b[0m             \u001b[39m\"\u001b[39m\u001b[39mbrand_id\u001b[39m\u001b[39m\"\u001b[39m: \u001b[39mint\u001b[39m(registro[\u001b[39m\"\u001b[39m\u001b[39mmakeId\u001b[39m\u001b[39m\"\u001b[39m]) \u001b[39mif\u001b[39;00m registro[\u001b[39m\"\u001b[39m\u001b[39mmakeId\u001b[39m\u001b[39m\"\u001b[39m] \u001b[39mis\u001b[39;00m \u001b[39mnot\u001b[39;00m \u001b[39mNone\u001b[39;00m \u001b[39melse\u001b[39;00m \u001b[39mNone\u001b[39;00m,\n\u001b[0;32m     32\u001b[0m             \u001b[39m\"\u001b[39m\u001b[39mfuel_types\u001b[39m\u001b[39m\"\u001b[39m: registro[\u001b[39m\"\u001b[39m\u001b[39mfuelType\u001b[39m\u001b[39m\"\u001b[39m],\n\u001b[0;32m     33\u001b[0m             \u001b[39m\"\u001b[39m\u001b[39mmodel_id\u001b[39m\u001b[39m\"\u001b[39m: \u001b[39mint\u001b[39m(registro[\u001b[39m\"\u001b[39m\u001b[39mmodelId\u001b[39m\u001b[39m\"\u001b[39m]) \u001b[39mif\u001b[39;00m registro[\u001b[39m\"\u001b[39m\u001b[39mmodelId\u001b[39m\u001b[39m\"\u001b[39m] \u001b[39mis\u001b[39;00m \u001b[39mnot\u001b[39;00m \u001b[39mNone\u001b[39;00m \u001b[39melse\u001b[39;00m \u001b[39mNone\u001b[39;00m,\n\u001b[0;32m     34\u001b[0m             \u001b[39m\"\u001b[39m\u001b[39mseller_type\u001b[39m\u001b[39m\"\u001b[39m: registro[\u001b[39m\"\u001b[39m\u001b[39mseller_type\u001b[39m\u001b[39m\"\u001b[39m],\n\u001b[0;32m     35\u001b[0m             \u001b[39m\"\u001b[39m\u001b[39mbodyType\u001b[39m\u001b[39m\"\u001b[39m: registro\u001b[39m.\u001b[39mget(\u001b[39m\"\u001b[39m\u001b[39mbodyType\u001b[39m\u001b[39m\"\u001b[39m),\n\u001b[0;32m     36\u001b[0m             \u001b[39m\"\u001b[39m\u001b[39mcubicCapacity\u001b[39m\u001b[39m\"\u001b[39m: \u001b[39mint\u001b[39m(registro[\u001b[39m\"\u001b[39m\u001b[39mcubicCapacity\u001b[39m\u001b[39m\"\u001b[39m]) \u001b[39mif\u001b[39;00m registro[\u001b[39m\"\u001b[39m\u001b[39mcubicCapacity\u001b[39m\u001b[39m\"\u001b[39m] \u001b[39mis\u001b[39;00m \u001b[39mnot\u001b[39;00m \u001b[39mNone\u001b[39;00m \u001b[39melse\u001b[39;00m \u001b[39mNone\u001b[39;00m,\n\u001b[0;32m     37\u001b[0m             \u001b[39m\"\u001b[39m\u001b[39mdoors\u001b[39m\u001b[39m\"\u001b[39m: \u001b[39mint\u001b[39m(registro[\u001b[39m\"\u001b[39m\u001b[39mdoors\u001b[39m\u001b[39m\"\u001b[39m]) \u001b[39mif\u001b[39;00m registro[\u001b[39m\"\u001b[39m\u001b[39mdoors\u001b[39m\u001b[39m\"\u001b[39m] \u001b[39mis\u001b[39;00m \u001b[39mnot\u001b[39;00m \u001b[39mNone\u001b[39;00m \u001b[39melse\u001b[39;00m \u001b[39mNone\u001b[39;00m,\n\u001b[0;32m     38\u001b[0m             \u001b[39m\"\u001b[39m\u001b[39mhp\u001b[39m\u001b[39m\"\u001b[39m: \u001b[39mint\u001b[39m(registro[\u001b[39m\"\u001b[39m\u001b[39mhp\u001b[39m\u001b[39m\"\u001b[39m]) \u001b[39mif\u001b[39;00m registro[\u001b[39m\"\u001b[39m\u001b[39mhp\u001b[39m\u001b[39m\"\u001b[39m] \u001b[39mis\u001b[39;00m \u001b[39mnot\u001b[39;00m \u001b[39mNone\u001b[39;00m \u001b[39melse\u001b[39;00m \u001b[39mNone\u001b[39;00m,\n\u001b[0;32m     39\u001b[0m             \u001b[39m\"\u001b[39m\u001b[39murl\u001b[39m\u001b[39m\"\u001b[39m: registro[\u001b[39m\"\u001b[39m\u001b[39murl\u001b[39m\u001b[39m\"\u001b[39m]\n\u001b[0;32m     40\u001b[0m         }\n\u001b[0;32m     41\u001b[0m     }\n\u001b[0;32m     43\u001b[0m     \u001b[39m# Agregar el registro con el nuevo formato a la lista\u001b[39;00m\n\u001b[0;32m     44\u001b[0m     new_data\u001b[39m.\u001b[39mappend(new_registro)\n",
      "\u001b[1;31mTypeError\u001b[0m: int() argument must be a string, a bytes-like object or a real number, not 'NoneType'"
     ]
    }
   ],
   "source": [
    "# Leer archivo JSON\n",
    "with open('datos_coches/bmw_mazda.json') as f:\n",
    "    data = json.load(f)\n",
    "\n",
    "# Crear lista para almacenar los registros con el nuevo formato\n",
    "new_data = []\n",
    "\n",
    "# Recorrer cada registro del archivo JSON y darle el nuevo formato\n",
    "for registro in data:\n",
    "    new_registro = {\n",
    "        \"url\": registro[\"url\"],\n",
    "        \"datetime\": registro[\"date\"],\n",
    "        \"resto_de_datos\": {\n",
    "            \"color\": registro.get(\"color\"),\n",
    "            \"fuelTypeId\": int(registro[\"fuelTypeId\"]) if registro[\"fuelTypeId\"] is not None else None,\n",
    "            \"fuelType\": registro[\"fuelType\"],\n",
    "            \"id\": str(int(registro[\"id\"])) if registro[\"id\"] is not None else None,\n",
    "            \"km\": int(registro[\"km\"]),\n",
    "            \"make\": registro[\"make\"],\n",
    "            \"makeId\": int(registro[\"makeId\"]) if registro[\"makeId\"] is not None else None,\n",
    "            \"model\": registro[\"model\"],\n",
    "            \"modelId\": int(registro[\"modelId\"]) if registro[\"modelId\"] is not None else None,\n",
    "            \"price\": int(registro[\"price\"]),\n",
    "            \"province\": registro[\"province\"],\n",
    "            \"provinceId\": int(registro[\"provinceId\"]) if registro[\"provinceId\"] is not None else None,\n",
    "            \"title\": registro[\"title\"],\n",
    "            \"transmissionType\": registro[\"transmissionType\"],\n",
    "            \"transmissionTypeId\": int(registro[\"transmissionTypeId\"]) if registro[\"transmissionTypeId\"] is not None else None,\n",
    "            \"year\": int(registro[\"year\"]) if registro[\"year\"] is not None else None,\n",
    "            \"brand\": registro[\"make\"],\n",
    "            \"brand_id\": int(registro[\"makeId\"]) if registro[\"makeId\"] is not None else None,\n",
    "            \"fuel_types\": registro[\"fuelType\"],\n",
    "            \"model_id\": int(registro[\"modelId\"]) if registro[\"modelId\"] is not None else None,\n",
    "            \"seller_type\": registro[\"seller_type\"],\n",
    "            \"bodyType\": registro.get(\"bodyType\"),\n",
    "            \"cubicCapacity\": int(registro[\"cubicCapacity\"]) if registro[\"cubicCapacity\"] is not None else None,\n",
    "            \"doors\": int(registro[\"doors\"]) if registro[\"doors\"] is not None else None,\n",
    "            \"hp\": int(registro[\"hp\"]) if registro[\"hp\"] is not None else None,\n",
    "            \"url\": registro[\"url\"]\n",
    "        }\n",
    "    }\n",
    "\n",
    "    # Agregar el registro con el nuevo formato a la lista\n",
    "    new_data.append(new_registro)\n",
    "\n",
    "# Guardar archivo JSON con los registros en el nuevo formato\n",
    "with open('datos_coches/bmw_mazda.json', 'w') as f:\n",
    "    json.dump(new_data, f, ensure_ascii=False, indent=4)\n",
    "\n"
   ]
  }
 ],
 "metadata": {
  "kernelspec": {
   "display_name": "venv",
   "language": "python",
   "name": "python3"
  },
  "language_info": {
   "codemirror_mode": {
    "name": "ipython",
    "version": 3
   },
   "file_extension": ".py",
   "mimetype": "text/x-python",
   "name": "python",
   "nbconvert_exporter": "python",
   "pygments_lexer": "ipython3",
   "version": "3.11.1"
  },
  "orig_nbformat": 4
 },
 "nbformat": 4,
 "nbformat_minor": 2
}
