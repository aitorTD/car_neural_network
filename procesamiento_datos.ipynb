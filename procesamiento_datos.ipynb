{
 "cells": [
  {
   "attachments": {},
   "cell_type": "markdown",
   "metadata": {},
   "source": [
    "## Librerías"
   ]
  },
  {
   "cell_type": "code",
   "execution_count": 1,
   "metadata": {},
   "outputs": [],
   "source": [
    "import json"
   ]
  },
  {
   "attachments": {},
   "cell_type": "markdown",
   "metadata": {},
   "source": [
    "## Código"
   ]
  },
  {
   "attachments": {},
   "cell_type": "markdown",
   "metadata": {},
   "source": [
    "Borramos los dos primeros registros del archivo .json proporcionado por Adrián, ya que no eran datos de coches."
   ]
  },
  {
   "cell_type": "code",
   "execution_count": null,
   "metadata": {},
   "outputs": [],
   "source": [
    "# Leer el archivo JSON\n",
    "with open('datos_coches/datos_adrian.json') as f:\n",
    "    data = json.load(f)\n",
    "\n",
    "# Eliminar los dos primeros registros\n",
    "data.pop(0)\n",
    "data.pop(0)\n",
    "\n",
    "# Escribir el objeto JSON actualizado en el archivo JSON original\n",
    "with open('datos_coches/datos_adrian.json', 'w') as f:\n",
    "    json.dump(data, f)\n",
    "\n",
    "\n",
    "# Leer el archivo JSON\n",
    "with open('datos_coches/datos_adrian.json') as f:\n",
    "    data = json.load(f)\n",
    "\n",
    "# Imprimir el contenido del archivo JSON actualizado\n",
    "# print(json.dumps(data, indent=2))\n"
   ]
  },
  {
   "attachments": {},
   "cell_type": "markdown",
   "metadata": {},
   "source": [
    "De los 9 archivos .json, 8 siguen la misma estructura en cada coche, vamos a cambiar la estructura del archivo diferente para hacerlo igual a los demás y poder tratarlo en conjunto con los demás."
   ]
  },
  {
   "cell_type": "code",
   "execution_count": 3,
   "metadata": {},
   "outputs": [],
   "source": [
    "with open('datos_coches/datos_formateados.json', 'r') as f:\n",
    "    data = json.load(f)"
   ]
  },
  {
   "cell_type": "code",
   "execution_count": null,
   "metadata": {},
   "outputs": [],
   "source": [
    "# Creamos una lista vacía para guardar los registros formateados\n",
    "new_data = []\n",
    "\n",
    "# Iteramos sobre cada registro\n",
    "for registro in data:\n",
    "    # Creamos un nuevo diccionario con el formato deseado\n",
    "    nuevo_registro = {\n",
    "        \"url\": registro[\"url\"],\n",
    "        \"datetime\": registro[\"datetime\"],\n",
    "        \"resto_de_datos\": {\n",
    "            \"color\": registro[\"color\"],\n",
    "            \"fuelTypeId\": registro[\"fuelTypeId\"],\n",
    "            \"fuelType\": registro[\"fuelType\"],\n",
    "            \"id\": registro[\"id\"],\n",
    "            \"km\": registro[\"km\"],\n",
    "            \"make\": registro[\"make\"],\n",
    "            \"makeId\": registro[\"makeId\"],\n",
    "            \"model\": registro[\"model\"],\n",
    "            \"modelId\": registro[\"modelId\"],\n",
    "            \"price\": registro[\"price\"],\n",
    "            \"province\": registro[\"province\"],\n",
    "            \"provinceId\": registro[\"provinceId\"],\n",
    "            \"title\": registro[\"title\"],\n",
    "            \"transmissionType\": registro[\"transmissionType\"],\n",
    "            \"transmissionTypeId\": registro[\"transmissionTypeId\"],\n",
    "            \"year\": registro[\"year\"],\n",
    "            \"brand\": registro[\"brand\"],\n",
    "            \"brand_id\": registro[\"brand_id\"],\n",
    "            \"fuel_types\": registro[\"fuel_types\"],\n",
    "            \"model_id\": registro[\"model_id\"],\n",
    "            \"seller_type\": registro[\"seller_type\"],\n",
    "            \"bodyType\": registro[\"bodyType\"],\n",
    "            \"cubicCapacity\": registro[\"cubicCapacity\"],\n",
    "            \"doors\": registro[\"doors\"],\n",
    "            \"hp\": registro[\"hp\"],\n",
    "            \"url\": registro[\"url\"]\n",
    "        }\n",
    "    }\n",
    "    \n",
    "    # Agregamos el nuevo registro a la lista de registros formateados\n",
    "    new_data.append(nuevo_registro)"
   ]
  },
  {
   "cell_type": "code",
   "execution_count": null,
   "metadata": {},
   "outputs": [],
   "source": [
    "# Escribimos los nuevos datos formateados en el archivo\n",
    "with open('datos_coches/datos_formateados.json', 'w') as f:\n",
    "    json.dump(new_data, f, indent=4)"
   ]
  }
 ],
 "metadata": {
  "kernelspec": {
   "display_name": "venv",
   "language": "python",
   "name": "python3"
  },
  "language_info": {
   "codemirror_mode": {
    "name": "ipython",
    "version": 3
   },
   "file_extension": ".py",
   "mimetype": "text/x-python",
   "name": "python",
   "nbconvert_exporter": "python",
   "pygments_lexer": "ipython3",
   "version": "3.11.1"
  },
  "orig_nbformat": 4
 },
 "nbformat": 4,
 "nbformat_minor": 2
}
